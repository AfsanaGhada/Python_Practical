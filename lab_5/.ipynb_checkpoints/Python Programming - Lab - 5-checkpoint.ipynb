{
 "cells": [
  {
   "cell_type": "markdown",
   "metadata": {},
   "source": [
    "\n",
    "<a href='https://www.darshan.ac.in/'> <img src='https://www.darshan.ac.in/Content/media/DU_Logo.svg' width=\"250\" height=\"300\"/></a>\n",
    "<pre>\n",
    "<center><b><h1>Python Programming - 2301CS404</b></center>\n",
    "<center><b><h1>Lab - 5</b></center>    \n",
    "<center><b><h1>Ghada Afsana Roll No:24010101633 26/12/24</b></center>    \n",
    "\n",
    "<pre>"
   ]
  },
  {
   "cell_type": "markdown",
   "metadata": {},
   "source": [
    "# List"
   ]
  },
  {
   "cell_type": "markdown",
   "metadata": {},
   "source": [
    "### 01) WAP to find sum of all the elements in a List."
   ]
  },
  {
   "cell_type": "code",
   "execution_count": 1,
   "metadata": {},
   "outputs": [
    {
     "name": "stdout",
     "output_type": "stream",
     "text": [
      "The sum of all elements in the list is: 150\n"
     ]
    }
   ],
   "source": [
    "numbers = [10, 20, 30, 40, 50]\n",
    "\n",
    "total_sum = sum(numbers)\n",
    "print(\"The sum of all elements in the list is:\", total_sum)\n"
   ]
  },
  {
   "cell_type": "markdown",
   "metadata": {},
   "source": [
    "### 02) WAP to find largest element in a List."
   ]
  },
  {
   "cell_type": "code",
   "execution_count": null,
   "metadata": {},
   "outputs": [],
   "source": [
    "numbers = [10, 20, 30, 40, 50]\n",
    "largest = max(numbers)\n",
    "print(\"The largest element in the list is:\", largest)\n"
   ]
  },
  {
   "cell_type": "markdown",
   "metadata": {},
   "source": [
    "### 03) WAP to find the length of a List."
   ]
  },
  {
   "cell_type": "code",
   "execution_count": null,
   "metadata": {},
   "outputs": [],
   "source": [
    "elements = [10, 20, 30, 40, 50]\n",
    "length = len(elements)\n",
    "print(\"The length of the list is:\", length)\n"
   ]
  },
  {
   "cell_type": "markdown",
   "metadata": {},
   "source": [
    "### 04) WAP to interchange first and last elements in a list."
   ]
  },
  {
   "cell_type": "code",
   "execution_count": 1,
   "metadata": {},
   "outputs": [
    {
     "name": "stdout",
     "output_type": "stream",
     "text": [
      "List after interchanging first and last elements: [50, 20, 30, 40, 10]\n"
     ]
    }
   ],
   "source": [
    "elements = [10, 20, 30, 40, 50]\n",
    "if len(elements) > 1:  \n",
    "    elements[0], elements[-1] = elements[-1], elements[0]\n",
    "print(\"List after interchanging first and last elements:\", elements)\n"
   ]
  },
  {
   "cell_type": "markdown",
   "metadata": {},
   "source": [
    "### 05) WAP to split the List into two parts and append the first part to the end."
   ]
  },
  {
   "cell_type": "code",
   "execution_count": 2,
   "metadata": {},
   "outputs": [
    {
     "name": "stdout",
     "output_type": "stream",
     "text": [
      "List after splitting and appending: [30, 40, 50, 10, 20]\n"
     ]
    }
   ],
   "source": [
    "elements = [10, 20, 30, 40, 50]\n",
    "split_index = 2\n",
    "first_part = elements[:split_index]  \n",
    "second_part = elements[split_index:] \n",
    "result = second_part + first_part\n",
    "print(\"List after splitting and appending:\", result)\n"
   ]
  },
  {
   "cell_type": "markdown",
   "metadata": {},
   "source": [
    "### 06) WAP to interchange the elements on two positions entered by a user."
   ]
  },
  {
   "cell_type": "code",
   "execution_count": 3,
   "metadata": {},
   "outputs": [
    {
     "name": "stdin",
     "output_type": "stream",
     "text": [
      "Enter the first position (1-based index):  2\n",
      "Enter the second position (1-based index):  3\n"
     ]
    },
    {
     "name": "stdout",
     "output_type": "stream",
     "text": [
      "List after interchanging elements: [10, 30, 20, 40, 50]\n"
     ]
    }
   ],
   "source": [
    "elements = [10, 20, 30, 40, 50]\n",
    "pos1 = int(input(\"Enter the first position (1-based index): \")) - 1\n",
    "pos2 = int(input(\"Enter the second position (1-based index): \")) - 1\n",
    "if 0 <= pos1 < len(elements) and 0 <= pos2 < len(elements):\n",
    "    elements[pos1], elements[pos2] = elements[pos2], elements[pos1]\n",
    "    print(\"List after interchanging elements:\", elements)\n",
    "else:\n",
    "    print(\"Invalid positions! Please enter positions within the range of the list.\")\n"
   ]
  },
  {
   "cell_type": "markdown",
   "metadata": {},
   "source": [
    "### 07) WAP to reverse the list entered by user."
   ]
  },
  {
   "cell_type": "code",
   "execution_count": 20,
   "metadata": {},
   "outputs": [
    {
     "name": "stdin",
     "output_type": "stream",
     "text": [
      "Enter the elements of the list separated by spaces:  1 3 4 5 6\n"
     ]
    },
    {
     "name": "stdout",
     "output_type": "stream",
     "text": [
      "Reversed list: ['6', '5', '4', '3', '1']\n"
     ]
    }
   ],
   "source": [
    "elements = input(\"Enter the elements of the list separated by spaces: \").split()\n",
    "reversed_list = elements[::-1]\n",
    "print(\"Reversed list:\", reversed_list)\n"
   ]
  },
  {
   "cell_type": "markdown",
   "metadata": {},
   "source": [
    "### 08) WAP to print even numbers in a list."
   ]
  },
  {
   "cell_type": "code",
   "execution_count": 19,
   "metadata": {},
   "outputs": [
    {
     "name": "stdout",
     "output_type": "stream",
     "text": [
      "Even numbers in the list: [10, 20, 30, 40]\n"
     ]
    }
   ],
   "source": [
    "elements = [10, 15, 20, 25, 30, 35, 40]\n",
    "even_numbers = [num for num in elements if num % 2 == 0]\n",
    "\n",
    "print(\"Even numbers in the list:\", even_numbers)\n"
   ]
  },
  {
   "cell_type": "markdown",
   "metadata": {},
   "source": [
    "### 09) WAP to count unique items in a list."
   ]
  },
  {
   "cell_type": "code",
   "execution_count": 18,
   "metadata": {},
   "outputs": [
    {
     "name": "stdout",
     "output_type": "stream",
     "text": [
      "Unique items in the list: {40, 10, 50, 20, 30}\n",
      "Count of unique items: 5\n"
     ]
    }
   ],
   "source": [
    "elements = [10, 20, 10, 30, 40, 30, 50]\n",
    "unique_items = set(elements)\n",
    "unique_count = len(unique_items)\n",
    "\n",
    "print(\"Unique items in the list:\", unique_items)\n",
    "print(\"Count of unique items:\", unique_count)\n"
   ]
  },
  {
   "cell_type": "markdown",
   "metadata": {},
   "source": [
    "### 10) WAP to copy a list."
   ]
  },
  {
   "cell_type": "code",
   "execution_count": 17,
   "metadata": {},
   "outputs": [
    {
     "name": "stdout",
     "output_type": "stream",
     "text": [
      "Original list: [10, 20, 30, 40, 50]\n",
      "Copied list: [10, 20, 30, 40, 50]\n"
     ]
    }
   ],
   "source": [
    "\n",
    "original_list = [10, 20, 30, 40, 50]\n",
    "\n",
    "copied_list = original_list.copy()  \n",
    "\n",
    "print(\"Original list:\", original_list)\n",
    "print(\"Copied list:\", copied_list)\n"
   ]
  },
  {
   "cell_type": "markdown",
   "metadata": {},
   "source": [
    "### 11) WAP to print all odd numbers in a given range."
   ]
  },
  {
   "cell_type": "code",
   "execution_count": 16,
   "metadata": {},
   "outputs": [
    {
     "name": "stdin",
     "output_type": "stream",
     "text": [
      "Enter the starting number:  1\n",
      "Enter the ending number:  40\n"
     ]
    },
    {
     "name": "stdout",
     "output_type": "stream",
     "text": [
      "Odd numbers between 1 and 40 are:\n",
      "1\n",
      "3\n",
      "5\n",
      "7\n",
      "9\n",
      "11\n",
      "13\n",
      "15\n",
      "17\n",
      "19\n",
      "21\n",
      "23\n",
      "25\n",
      "27\n",
      "29\n",
      "31\n",
      "33\n",
      "35\n",
      "37\n",
      "39\n"
     ]
    }
   ],
   "source": [
    "\n",
    "start = int(input(\"Enter the starting number: \"))\n",
    "end = int(input(\"Enter the ending number: \"))\n",
    "\n",
    "print(f\"Odd numbers between {start} and {end} are:\")S\n",
    "for num in range(start, end + 1):  \n",
    "    if num % 2 != 0:\n",
    "        print(num)\n"
   ]
  },
  {
   "cell_type": "markdown",
   "metadata": {},
   "source": [
    "### 12) WAP to count occurrences of an element in a list."
   ]
  },
  {
   "cell_type": "code",
   "execution_count": 15,
   "metadata": {},
   "outputs": [
    {
     "name": "stdin",
     "output_type": "stream",
     "text": [
      "Enter the element to count:  20\n"
     ]
    },
    {
     "name": "stdout",
     "output_type": "stream",
     "text": [
      "The element 20 appears 1 times in the list.\n"
     ]
    }
   ],
   "source": [
    "elements = [10, 20, 10, 30, 10, 40, 50, 10]\n",
    "element_to_count = int(input(\"Enter the element to count: \"))\n",
    "\n",
    "count = elements.count(element_to_count)\n",
    "\n",
    "print(f\"The element {element_to_count} appears {count} times in the list.\")\n"
   ]
  },
  {
   "cell_type": "markdown",
   "metadata": {},
   "source": [
    "### 13) WAP to find second largest number in a list."
   ]
  },
  {
   "cell_type": "code",
   "execution_count": 21,
   "metadata": {},
   "outputs": [
    {
     "name": "stdout",
     "output_type": "stream",
     "text": [
      "The second largest number is: 40\n"
     ]
    }
   ],
   "source": [
    "\n",
    "numbers = [10, 20, 30, 40, 50]\n",
    "\n",
    "numbers.sort()\n",
    "\n",
    "second_largest = numbers[-2] if len(numbers) > 1 else None  \n",
    "\n",
    "print(\"The second largest number is:\", second_largest)\n"
   ]
  },
  {
   "cell_type": "markdown",
   "metadata": {},
   "source": [
    "### 14) WAP to extract elements with frequency greater than K."
   ]
  },
  {
   "cell_type": "code",
   "execution_count": 22,
   "metadata": {},
   "outputs": [
    {
     "name": "stdin",
     "output_type": "stream",
     "text": [
      "Enter the value of K:  2\n"
     ]
    },
    {
     "name": "stdout",
     "output_type": "stream",
     "text": [
      "Elements with frequency greater than 2: [10, 20]\n"
     ]
    }
   ],
   "source": [
    "\n",
    "from collections import Counter\n",
    "\n",
    "elements = [10, 20, 30, 10, 20, 10, 40, 50, 30, 10, 60, 20]\n",
    "K = int(input(\"Enter the value of K: \"))\n",
    "\n",
    "element_counts = Counter(elements)\n",
    "\n",
    "elements_greater_than_k = [element for element, count in element_counts.items() if count > K]\n",
    "\n",
    "print(f\"Elements with frequency greater than {K}:\", elements_greater_than_k)\n"
   ]
  },
  {
   "cell_type": "markdown",
   "metadata": {},
   "source": [
    "### 15) WAP to create a list of squared numbers from 0 to 9 with and without using List Comprehension."
   ]
  },
  {
   "cell_type": "code",
   "execution_count": 8,
   "metadata": {},
   "outputs": [
    {
     "name": "stdout",
     "output_type": "stream",
     "text": [
      "Squared numbers using List Comprehension: [0, 1, 4, 9, 16, 25, 36, 49, 64, 81]\n",
      "Squared numbers without List Comprehension: [0, 1, 4, 9, 16, 25, 36, 49, 64, 81]\n"
     ]
    }
   ],
   "source": [
    "\n",
    "squared_numbers_comprehension = [x**2 for x in range(10)]\n",
    "\n",
    "print(\"Squared numbers using List Comprehension:\", squared_numbers_comprehension)\n",
    "\n",
    "squared_numbers_no_comprehension = []\n",
    "for x in range(10):\n",
    "    squared_numbers_no_comprehension.append(x**2)\n",
    "print(\"Squared numbers without List Comprehension:\", squared_numbers_no_comprehension)\n",
    "\n"
   ]
  },
  {
   "cell_type": "markdown",
   "metadata": {},
   "source": [
    "### 16) WAP to create a new list (fruit whose name starts with 'b') from the list of fruits given by user."
   ]
  },
  {
   "cell_type": "code",
   "execution_count": 7,
   "metadata": {},
   "outputs": [
    {
     "name": "stdin",
     "output_type": "stream",
     "text": [
      "Enter a list of fruits separated by spaces:  banana apple\n"
     ]
    },
    {
     "name": "stdout",
     "output_type": "stream",
     "text": [
      "Fruits whose name starts with 'b': ['banana']\n"
     ]
    }
   ],
   "source": [
    "fruits = input(\"Enter a list of fruits separated by spaces: \").split()\n",
    "b_fruits = [fruit for fruit in fruits if fruit.lower().startswith('b')]\n",
    "\n",
    "print(\"Fruits whose name starts with 'b':\", b_fruits)\n"
   ]
  },
  {
   "cell_type": "markdown",
   "metadata": {},
   "source": [
    "### 17) WAP to create a list of common elements from given two lists."
   ]
  },
  {
   "cell_type": "code",
   "execution_count": 4,
   "metadata": {},
   "outputs": [
    {
     "name": "stdout",
     "output_type": "stream",
     "text": [
      "Common elements between the two lists: [40, 50, 30]\n"
     ]
    }
   ],
   "source": [
    "\n",
    "list1 = [10, 20, 30, 40, 50]\n",
    "list2 = [30, 40, 50, 60, 70]\n",
    "\n",
    "common_elements = list(set(list1) & set(list2))\n",
    "\n",
    "print(\"Common elements between the two lists:\", common_elements)\n"
   ]
  },
  {
   "cell_type": "code",
   "execution_count": null,
   "metadata": {},
   "outputs": [],
   "source": []
  }
 ],
 "metadata": {
  "kernelspec": {
   "display_name": "Python 3 (ipykernel)",
   "language": "python",
   "name": "python3"
  },
  "language_info": {
   "codemirror_mode": {
    "name": "ipython",
    "version": 3
   },
   "file_extension": ".py",
   "mimetype": "text/x-python",
   "name": "python",
   "nbconvert_exporter": "python",
   "pygments_lexer": "ipython3",
   "version": "3.13.1"
  }
 },
 "nbformat": 4,
 "nbformat_minor": 4
}
