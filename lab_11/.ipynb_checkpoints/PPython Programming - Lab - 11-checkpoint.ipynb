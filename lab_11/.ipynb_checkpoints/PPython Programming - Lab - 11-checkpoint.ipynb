{
 "cells": [
  {
   "attachments": {},
   "cell_type": "markdown",
   "metadata": {},
   "source": [
    "<a href='https://www.darshan.ac.in/'> <img src='https://www.darshan.ac.in/Content/media/DU_Logo.svg' width=\"250\" height=\"300\"/></a>\n",
    "<pre>\n",
    "<center><b><h1>Python Programming - 2301CS404</b></center>\n",
    "<center><b><h1>Lab - 11</b></center>   \n",
    "    <center><b><h1>Name:Ghada Afsana Rollno:24010101633 Date:12/2/25</b></center>    \n",
    "\n",
    "<pre>"
   ]
  },
  {
   "cell_type": "markdown",
   "metadata": {},
   "source": [
    "# Modules"
   ]
  },
  {
   "cell_type": "markdown",
   "metadata": {},
   "source": [
    "### 01) WAP to create Calculator module which defines functions like add, sub,mul and div. \n",
    "### Create another .py file that uses the functions available in Calculator module."
   ]
  },
  {
   "cell_type": "code",
   "execution_count": 1,
   "metadata": {},
   "outputs": [
    {
     "name": "stdout",
     "output_type": "stream",
     "text": [
      "Addition: 30\n",
      "Subtraction: -10\n",
      "Multiplication: 200\n",
      "Division: 0.5\n"
     ]
    }
   ],
   "source": [
    "import Calculator\n",
    "a=10\n",
    "b=20\n",
    "print(\"Addition:\",Calculator.add(a,b))\n",
    "print(\"Subtraction:\",Calculator.sub(a,b))\n",
    "print(\"Multiplication:\",Calculator.mul(a,b))\n",
    "print(\"Division:\",Calculator.div(a,b))\n",
    "\n",
    "\n"
   ]
  },
  {
   "cell_type": "markdown",
   "metadata": {},
   "source": [
    "### 02) WAP to pick a random character from a given String."
   ]
  },
  {
   "cell_type": "code",
   "execution_count": 3,
   "metadata": {},
   "outputs": [
    {
     "name": "stdin",
     "output_type": "stream",
     "text": [
      "enter string : hjrjfeh\n"
     ]
    },
    {
     "name": "stdout",
     "output_type": "stream",
     "text": [
      "random character from given string: j\n"
     ]
    }
   ],
   "source": [
    "import random \n",
    "\n",
    "string=input(\"enter string :\")\n",
    "\n",
    "\n",
    "r=random.choice(string)\n",
    "print(\"random character from given string:\",r)\n"
   ]
  },
  {
   "cell_type": "markdown",
   "metadata": {},
   "source": [
    "### 03) WAP to pick a random element from a given list."
   ]
  },
  {
   "cell_type": "code",
   "execution_count": 10,
   "metadata": {},
   "outputs": [
    {
     "name": "stdout",
     "output_type": "stream",
     "text": [
      "2\n",
      "[0, 3]\n",
      "Random elements: [7, 0, 9, 1]\n"
     ]
    }
   ],
   "source": [
    "import random\n",
    "\n",
    "l=[1,2,3,4,5,6,7,8,9,0]\n",
    "\n",
    "r=random.choice(l)\n",
    "print(r)\n",
    "\n",
    "# using shuffle \\\n",
    "random.shuffle(l)\n",
    "b = l[:2]\n",
    "print(b)\n",
    "\n",
    "# using sample\n",
    "c = random.sample(l, 4)\n",
    "\n",
    "print(\"Random elements:\", c)"
   ]
  },
  {
   "cell_type": "markdown",
   "metadata": {},
   "source": [
    "### 04) WAP to roll a dice in such a way that every time you get the same number."
   ]
  },
  {
   "cell_type": "code",
   "execution_count": 6,
   "metadata": {},
   "outputs": [
    {
     "name": "stdout",
     "output_type": "stream",
     "text": [
      "Roll Diece And Every time get Same number: 1\n"
     ]
    }
   ],
   "source": [
    "import random\n",
    "random.seed(2)\n",
    "print(\"Roll Diece And Every time get Same number:\",random.randrange(1,6))\n"
   ]
  },
  {
   "cell_type": "markdown",
   "metadata": {},
   "source": [
    "### 05) WAP to generate 3 random integers between 100 and 999 which is divisible by 5."
   ]
  },
  {
   "cell_type": "code",
   "execution_count": 9,
   "metadata": {},
   "outputs": [
    {
     "name": "stdout",
     "output_type": "stream",
     "text": [
      "n1: 420\n",
      "n2: 875\n",
      "n3: 370\n"
     ]
    }
   ],
   "source": [
    "import random \n",
    "\n",
    "# randrange([start],stop,[stop])\n",
    "print(\"n1:\",random.randrange(100,999,5))\n",
    "print(\"n2:\",random.randrange(100,999,5))\n",
    "print(\"n3:\",random.randrange(100,999,5))\n",
    "\n"
   ]
  },
  {
   "cell_type": "markdown",
   "metadata": {},
   "source": [
    "### 06) WAP to generate 100 random lottery tickets and pick two lucky tickets from it and announce them as Winner and Runner up respectively."
   ]
  },
  {
   "cell_type": "code",
   "execution_count": 15,
   "metadata": {},
   "outputs": [
    {
     "name": "stdout",
     "output_type": "stream",
     "text": [
      "create 100 random lottery Ticket\n",
      "Luckey Two Lottery Ticket: [6305816968, 6467404413]\n"
     ]
    }
   ],
   "source": [
    "import random \n",
    "lottery_tickets_list=[]\n",
    "print(\"create 100 random lottery Ticket\")\n",
    "for i in range(100):\n",
    "    lottery_tickets_list.append(random.randrange(1000000000,9999999999))\n",
    "winners=random.sample(lottery_tickets_list,2)\n",
    "print(\"Luckey Two Lottery Ticket:\",winners)"
   ]
  },
  {
   "cell_type": "markdown",
   "metadata": {},
   "source": [
    "### 07) WAP to print current date and time in Python."
   ]
  },
  {
   "cell_type": "code",
   "execution_count": 14,
   "metadata": {},
   "outputs": [
    {
     "name": "stdout",
     "output_type": "stream",
     "text": [
      "current date and time: 2025-02-13 12:56:28.860077\n"
     ]
    }
   ],
   "source": [
    "import datetime\n",
    "\n",
    "print(\"current date and time:\",datetime.datetime.now())"
   ]
  },
  {
   "cell_type": "markdown",
   "metadata": {},
   "source": [
    "### 08) Subtract a week (7 days) from a given date in Python."
   ]
  },
  {
   "cell_type": "code",
   "execution_count": 18,
   "metadata": {},
   "outputs": [
    {
     "name": "stdout",
     "output_type": "stream",
     "text": [
      "Current time: 2025-02-13 12:57:31.577236\n",
      "After 7 Days: 2025-02-06 12:57:31.577623\n"
     ]
    }
   ],
   "source": [
    "\n",
    "from datetime import datetime, timedelta\n",
    "print(\"Current time:\",datetime.now())\n",
    "print(\"After 7 Days:\",datetime.now() - timedelta(days=7))"
   ]
  },
  {
   "cell_type": "markdown",
   "metadata": {},
   "source": [
    "### 09) WAP to Calculate number of days between two given dates."
   ]
  },
  {
   "cell_type": "code",
   "execution_count": 20,
   "metadata": {},
   "outputs": [
    {
     "name": "stdout",
     "output_type": "stream",
     "text": [
      "Number of days between 2006-03-06 and 2025-02-12: 6918 days\n"
     ]
    }
   ],
   "source": [
    "from datetime import datetime, timedelta\n",
    "\n",
    "# YYYY-MM-DD format\n",
    "date1 = datetime(2006, 3, 6)\n",
    "date2 = datetime(2025, 2, 12)\n",
    "\n",
    "# Calculate the difference using timedelta\n",
    "difference = date2 - date1\n",
    "\n",
    "# Get the number of days\n",
    "print(f\"Number of days between {date1.date()} and {date2.date()}: {difference.days} days\")\n"
   ]
  },
  {
   "cell_type": "markdown",
   "metadata": {},
   "source": [
    "### 10) WAP to Find the day of the week of a given date.(i.e. wether it is sunday/monday/tuesday/etc.)"
   ]
  },
  {
   "cell_type": "code",
   "execution_count": 33,
   "metadata": {},
   "outputs": [
    {
     "name": "stdin",
     "output_type": "stream",
     "text": [
      "Enter a date (YYYY-MM-DD):  2025-02-13\n"
     ]
    },
    {
     "name": "stdout",
     "output_type": "stream",
     "text": [
      "The day of the week for 2025-02-13 is: Thursday\n"
     ]
    }
   ],
   "source": [
    "from datetime import datetime\n",
    "date_str = input(\"Enter a date (YYYY-MM-DD): \")\n",
    "# Convert string to datetime object\n",
    "date_obj = datetime.strptime(date_str, \"%Y-%m-%d\")\n",
    "day_of_week = date_obj.weekday()\n",
    "# List of days to map index to actual day name\n",
    "days = [\"Monday\", \"Tuesday\", \"Wednesday\", \"Thursday\", \"Friday\", \"Saturday\", \"Sunday\"]\n",
    "# Output the result\n",
    "print(f\"The day of the week for {date_str} is: {days[day_of_week]}\")\n"
   ]
  },
  {
   "cell_type": "markdown",
   "metadata": {},
   "source": [
    "### 11) WAP to demonstrate the use of date time module."
   ]
  },
  {
   "cell_type": "code",
   "execution_count": 32,
   "metadata": {},
   "outputs": [
    {
     "name": "stdout",
     "output_type": "stream",
     "text": [
      "2025-02-13 13:10:56.433783\n",
      "2025\n",
      "Thursday\n",
      "2005-12-14 00:00:00\n",
      "September\n"
     ]
    }
   ],
   "source": [
    "import datetime\n",
    "# it return current date and time\n",
    "x = datetime.datetime.now()\n",
    "print(x)\n",
    "# Return the year and name of weekday\n",
    "print(x.year)\n",
    "print(x.strftime(\"%A\"))\n",
    "#creating a date object\n",
    "x = datetime.datetime(2005, 12, 14)\n",
    "print(x)\n",
    "# display name of the month\n",
    "x = datetime.datetime(2005, 9, 29)\n",
    "print(x.strftime(\"%B\"))"
   ]
  },
  {
   "cell_type": "markdown",
   "metadata": {},
   "source": [
    "### 12) WAP to demonstrate the use of the math module."
   ]
  },
  {
   "cell_type": "code",
   "execution_count": 30,
   "metadata": {},
   "outputs": [
    {
     "name": "stdin",
     "output_type": "stream",
     "text": [
      "enter n : 8\n"
     ]
    },
    {
     "name": "stdout",
     "output_type": "stream",
     "text": [
      "squre root of n 2.8284271247461903\n",
      "value of pi: 3.141592653589793\n",
      "ceil : 4\n",
      "floore: 3\n",
      "Euler's Number: 2.718281828459045\n",
      "Power: 729.0\n"
     ]
    }
   ],
   "source": [
    "import math\n",
    "\n",
    "n=int(input(\"enter n :\"))\n",
    "print(\"squre root of n\",math.sqrt(n))\n",
    "print(\"value of pi:\",math.pi)\n",
    "print(\"ceil :\",math.ceil(3.5))\n",
    "print(\"floore:\",math.floor(3.5))\n",
    "print(\"Euler's Number:\",math.e)\n",
    "print(\"Power:\",math.pow(9,3))"
   ]
  },
  {
   "cell_type": "code",
   "execution_count": null,
   "metadata": {},
   "outputs": [],
   "source": []
  }
 ],
 "metadata": {
  "kernelspec": {
   "display_name": "Python 3 (ipykernel)",
   "language": "python",
   "name": "python3"
  },
  "language_info": {
   "codemirror_mode": {
    "name": "ipython",
    "version": 3
   },
   "file_extension": ".py",
   "mimetype": "text/x-python",
   "name": "python",
   "nbconvert_exporter": "python",
   "pygments_lexer": "ipython3",
   "version": "3.13.1"
  }
 },
 "nbformat": 4,
 "nbformat_minor": 4
}
