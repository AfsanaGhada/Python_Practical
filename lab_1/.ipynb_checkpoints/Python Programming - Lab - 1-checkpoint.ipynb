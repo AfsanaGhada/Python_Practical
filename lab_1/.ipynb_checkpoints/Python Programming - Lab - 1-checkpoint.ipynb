{
 "cells": [
  {
   "cell_type": "markdown",
   "metadata": {},
   "source": [
    "<a href='https://www.darshan.ac.in/'> <img src='https://www.darshan.ac.in/Content/media/DU_Logo.svg' width=\"250\" height=\"10\"/></a>\n",
    "<pre>\n",
    "<center><b><h1>Python Programming - 2301CS404</b></center>\n",
    "<center><b><h1>Lab - 1</b></center>    \n",
    "<center><b><h1>Ghada Afsana Enroll:24010101633 Date:28-11-24</b></center>    \n",
    "\n",
    "<pre>"
   ]
  },
  {
   "cell_type": "markdown",
   "metadata": {},
   "source": [
    "### 01) WAP to print “Hello World”"
   ]
  },
  {
   "cell_type": "code",
   "execution_count": 2,
   "metadata": {},
   "outputs": [
    {
     "name": "stdout",
     "output_type": "stream",
     "text": [
      "Hello World\n"
     ]
    }
   ],
   "source": [
    "print(\"Hello World\")"
   ]
  },
  {
   "cell_type": "markdown",
   "metadata": {},
   "source": [
    "### 02) WAP to print addition of two numbers with and without using input()."
   ]
  },
  {
   "cell_type": "code",
   "execution_count": 1,
   "metadata": {},
   "outputs": [
    {
     "name": "stdout",
     "output_type": "stream",
     "text": [
      "The sum of 10 and 20 is 30.\n"
     ]
    },
    {
     "name": "stdin",
     "output_type": "stream",
     "text": [
      "enter num1: 30\n",
      "enter num2: 40\n"
     ]
    },
    {
     "name": "stdout",
     "output_type": "stream",
     "text": [
      "The sum of 30 and 40 is 70.\n"
     ]
    }
   ],
   "source": [
    "num1=10\n",
    "num2=20\n",
    "result=num1+num2\n",
    "print(f\"The sum of {num1} and {num2} is {result}.\")\n",
    "\n",
    "\n",
    "#with input()\n",
    "num1=int(input(\"enter num1:\"))\n",
    "num2=int(input(\"enter num2:\"))\n",
    "result=num1+num2\n",
    "print(f\"The sum of {num1} and {num2} is {result}.\")"
   ]
  },
  {
   "cell_type": "markdown",
   "metadata": {},
   "source": [
    "### 03) WAP to check the type of the variable."
   ]
  },
  {
   "cell_type": "code",
   "execution_count": 2,
   "metadata": {},
   "outputs": [
    {
     "name": "stdout",
     "output_type": "stream",
     "text": [
      "<class 'int'>\n",
      "<class 'float'>\n",
      "<class 'str'>\n",
      "<class 'list'>\n"
     ]
    }
   ],
   "source": [
    "x = 42\n",
    "y = 3.14\n",
    "z = \"Hello\"\n",
    "a = [1, 2, 3]\n",
    "\n",
    "# Check types\n",
    "print(type(x)) \n",
    "print(type(y))  \n",
    "print(type(z)) \n",
    "print(type(a))  "
   ]
  },
  {
   "cell_type": "markdown",
   "metadata": {},
   "source": [
    "### 04) WAP to calculate simple interest."
   ]
  },
  {
   "cell_type": "code",
   "execution_count": 3,
   "metadata": {},
   "outputs": [
    {
     "name": "stdout",
     "output_type": "stream",
     "text": [
      "Simple Interest:100.0\n"
     ]
    }
   ],
   "source": [
    "p=1000\n",
    "r=2\n",
    "t=5\n",
    "si=(p*r*t)/100\n",
    "print(f\"Simple Interest:{si}\")"
   ]
  },
  {
   "cell_type": "markdown",
   "metadata": {},
   "source": [
    "### 05) WAP to calculate area and perimeter of a circle."
   ]
  },
  {
   "cell_type": "code",
   "execution_count": 9,
   "metadata": {},
   "outputs": [
    {
     "name": "stdin",
     "output_type": "stream",
     "text": [
      "enter radious: 21\n"
     ]
    },
    {
     "name": "stdout",
     "output_type": "stream",
     "text": [
      "area of circle 1384.74.\n",
      "area of perimeter 131.88.\n"
     ]
    }
   ],
   "source": [
    "pi=3.14\n",
    "r=int(input(\"enter radious:\"))\n",
    "area=pi*r*r\n",
    "print(f\"area of circle {area}.\")\n",
    "perimeter=2*pi*r\n",
    "print(f\"area of perimeter {perimeter}.\")\n"
   ]
  },
  {
   "cell_type": "markdown",
   "metadata": {},
   "source": [
    "### 06) WAP to calculate area of a triangle."
   ]
  },
  {
   "cell_type": "code",
   "execution_count": 11,
   "metadata": {},
   "outputs": [
    {
     "name": "stdin",
     "output_type": "stream",
     "text": [
      "Enter Base: 21\n",
      "Enter Height 32\n"
     ]
    },
    {
     "name": "stdout",
     "output_type": "stream",
     "text": [
      "Area Of Triangle is 336.0\n"
     ]
    }
   ],
   "source": [
    "b=float(input(\"Enter Base:\"))\n",
    "h=float(input(\"Enter Height\"))\n",
    "area=1/2*b*h\n",
    "print(f\"Area Of Triangle is\",area)"
   ]
  },
  {
   "cell_type": "markdown",
   "metadata": {},
   "source": [
    "### 07) WAP to compute quotient and remainder."
   ]
  },
  {
   "cell_type": "code",
   "execution_count": 14,
   "metadata": {},
   "outputs": [
    {
     "name": "stdin",
     "output_type": "stream",
     "text": [
      "Enter value 12\n",
      "Enter devider 6\n"
     ]
    },
    {
     "name": "stdout",
     "output_type": "stream",
     "text": [
      "Quotient: 2.0\n",
      "reminder: 0\n"
     ]
    }
   ],
   "source": [
    "val=int(input(\"Enter value\"))\n",
    "div=int(input(\"Enter devider\"))\n",
    "Quotient=val/div\n",
    "print(\"Quotient:\",Quotient)\n",
    "reminder=val%div\n",
    "print(\"reminder:\",reminder)"
   ]
  },
  {
   "cell_type": "markdown",
   "metadata": {},
   "source": [
    "### 08) WAP to convert degree into Fahrenheit and vice versa."
   ]
  },
  {
   "cell_type": "code",
   "execution_count": null,
   "metadata": {},
   "outputs": [],
   "source": [
    "celsius=float(input(\"Enter Degree:\"))\n",
    "fahrenhit=(celsius * 9/5) + 32\n",
    "print(\"Degree into fahrenhit:\",fahrenhit)\n",
    "celcius=(fahrenhit - 32) * 5/9\n",
    "print(\"fahrenhit into degree:\",celcius)\n",
    "\n",
    "\n"
   ]
  },
  {
   "cell_type": "markdown",
   "metadata": {},
   "source": [
    "### 09) WAP to find the distance between two points in 2-D space."
   ]
  },
  {
   "cell_type": "markdown",
   "metadata": {},
   "source": [
    "\n",
    "x1 = float(input(\"Enter the x-coordinate of the first point: \"))\n",
    "y1 = float(input(\"Enter the y-coordinate of the first point: \"))\n",
    "x2 = float(input(\"Enter the x-coordinate of the second point: \"))\n",
    "y2 = float(input(\"Enter the y-coordinate of the second point: \"))\n",
    "\n",
    "distance = math.sqrt((x2 - x1)**2 + (y2 - y1)**2)\n",
    "\n",
    "print(\"The distance between the two points is:\", distance)"
   ]
  },
  {
   "cell_type": "markdown",
   "metadata": {},
   "source": [
    "### 10) WAP to print sum of n natural numbers."
   ]
  },
  {
   "cell_type": "code",
   "execution_count": null,
   "metadata": {},
   "outputs": [],
   "source": [
    "n = int(input(\"Enter a natural number: \"))\n",
    "\n",
    "if n <= 0:\n",
    "    print(\"Please enter a positive natural number.\")\n",
    "else:\n",
    "    sum_of_natural_numbers = n * (n + 1) // 2\n",
    "\n",
    "    print(f\"The sum of the first {n} natural numbers is {sum_of_natural_numbers}.\")\n"
   ]
  },
  {
   "cell_type": "markdown",
   "metadata": {},
   "source": [
    "### 11) WAP to print sum of square of n natural numbers."
   ]
  },
  {
   "cell_type": "code",
   "execution_count": 15,
   "metadata": {},
   "outputs": [
    {
     "name": "stdin",
     "output_type": "stream",
     "text": [
      "Enter a natural number:  56\n"
     ]
    },
    {
     "name": "stdout",
     "output_type": "stream",
     "text": [
      "The sum of squares of the first 56 natural numbers is 60116.\n"
     ]
    }
   ],
   "source": [
    "n = int(input(\"Enter a natural number: \"))\n",
    "\n",
    "if n <= 0:\n",
    "    print(\"Please enter a positive natural number.\")\n",
    "else:\n",
    "    sum_of_squares = (n * (n + 1) * (2 * n + 1)) // 6\n",
    "\n",
    "    print(f\"The sum of squares of the first {n} natural numbers is {sum_of_squares}.\")\n"
   ]
  },
  {
   "cell_type": "markdown",
   "metadata": {},
   "source": [
    "### 12) WAP to concate the first and last name of the student."
   ]
  },
  {
   "cell_type": "code",
   "execution_count": 16,
   "metadata": {},
   "outputs": [
    {
     "name": "stdout",
     "output_type": "stream",
     "text": [
      "Full Name: Afsana Ghada\n"
     ]
    }
   ],
   "source": [
    "first_name = \"Afsana\"\n",
    "last_name = \"Ghada\"\n",
    "\n",
    "full_name = first_name + \" \" + last_name  \n",
    "\n",
    "print(\"Full Name:\", full_name)\n"
   ]
  },
  {
   "cell_type": "markdown",
   "metadata": {},
   "source": [
    "### 13) WAP to swap two numbers."
   ]
  },
  {
   "cell_type": "code",
   "execution_count": 17,
   "metadata": {},
   "outputs": [
    {
     "name": "stdout",
     "output_type": "stream",
     "text": [
      "Swap Of Two Num\n",
      "After swapping: a = 20, b = 10\n"
     ]
    }
   ],
   "source": [
    "a=10\n",
    "b=20\n",
    "temp=0\n",
    "\n",
    "print(\"Swap Of Two Num\")\n",
    "temp=a\n",
    "a=b\n",
    "b=temp\n",
    "\n",
    "print(f\"After swapping: a = {a}, b = {b}\")\n",
    "\n",
    "\n"
   ]
  },
  {
   "cell_type": "markdown",
   "metadata": {},
   "source": [
    "### 14) WAP to get the distance from user into kilometer, and convert it into meter, feet, inches and centimeter."
   ]
  },
  {
   "cell_type": "code",
   "execution_count": null,
   "metadata": {},
   "outputs": [],
   "source": [
    "km = float(input(\"Enter distance in kilometers: \"))\n",
    "\n",
    "print(f\"Meters: {km * 1000}\")\n",
    "print(f\"Feet: {km * 3280.84}\")\n",
    "print(f\"Inches: {km * 39370.1}\")\n",
    "print(f\"Centimeters: {km * 100000}\")\n",
    "\n",
    "\n"
   ]
  },
  {
   "cell_type": "markdown",
   "metadata": {},
   "source": [
    "### 15) WAP to get day, month and year from the user and print the date in the given format: 23-11-2024."
   ]
  },
  {
   "cell_type": "code",
   "execution_count": 19,
   "metadata": {},
   "outputs": [
    {
     "name": "stdin",
     "output_type": "stream",
     "text": [
      "Enter the day: 23\n",
      "Enter the month: 11\n",
      "enter a year: 2024\n"
     ]
    },
    {
     "name": "stdout",
     "output_type": "stream",
     "text": [
      "date-23-11-2024\n"
     ]
    }
   ],
   "source": [
    "day=input(\"Enter the day:\")\n",
    "month=input(\"Enter the month:\")\n",
    "year=input(\"enter a year:\")\n",
    "print(\"date\",day,month,year,sep=\"-\")"
   ]
  },
  {
   "cell_type": "code",
   "execution_count": null,
   "metadata": {},
   "outputs": [],
   "source": []
  }
 ],
 "metadata": {
  "kernelspec": {
   "display_name": "Python 3 (ipykernel)",
   "language": "python",
   "name": "python3"
  },
  "language_info": {
   "codemirror_mode": {
    "name": "ipython",
    "version": 3
   },
   "file_extension": ".py",
   "mimetype": "text/x-python",
   "name": "python",
   "nbconvert_exporter": "python",
   "pygments_lexer": "ipython3",
   "version": "3.13.0"
  },
  "vscode": {
   "interpreter": {
    "hash": "31f2aee4e71d21fbe5cf8b01ff0e069b9275f58929596ceb00d14d90e3e16cd6"
   }
  }
 },
 "nbformat": 4,
 "nbformat_minor": 4
}
