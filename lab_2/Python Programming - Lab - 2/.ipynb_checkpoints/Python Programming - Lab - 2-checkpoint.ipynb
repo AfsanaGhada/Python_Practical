{
 "cells": [
  {
   "cell_type": "markdown",
   "metadata": {},
   "source": [
    "\n",
    "<a href='https://www.darshan.ac.in/'> <img src='https://www.darshan.ac.in/Content/media/DU_Logo.svg' width=\"250\" height=\"300\"/></a>\n",
    "<pre>\n",
    "<center><b><h1>Python Programming - 2301CS404</b></center>\n",
    "<center><b><h1>Lab - 2</b></center>    \n",
    " <center><b><h1>GHADA AFSANA 24010101633 5/12/2024</b></center>    \n",
    "\n",
    "    \n",
    "<pre>"
   ]
  },
  {
   "cell_type": "markdown",
   "metadata": {},
   "source": [
    "# if..else.."
   ]
  },
  {
   "cell_type": "markdown",
   "metadata": {},
   "source": [
    "### 01) WAP to check whether the given number is positive or negative."
   ]
  },
  {
   "cell_type": "code",
   "execution_count": 2,
   "metadata": {},
   "outputs": [
    {
     "name": "stdin",
     "output_type": "stream",
     "text": [
      "enter num to check positive or nagative: 4\n"
     ]
    },
    {
     "name": "stdout",
     "output_type": "stream",
     "text": [
      "4 a Positive number.\n"
     ]
    }
   ],
   "source": [
    "num=int(input(\"enter num to check positive or nagative:\"))\n",
    "if num >= 0:\n",
    "    print(f\"{num} a Positive number.\")\n",
    "else:  \n",
    "    print(f\"{num} a Nagative number.\")\n",
    "\n"
   ]
  },
  {
   "cell_type": "markdown",
   "metadata": {},
   "source": [
    "### 02) WAP to check whether the given number is odd or even."
   ]
  },
  {
   "cell_type": "code",
   "execution_count": 3,
   "metadata": {},
   "outputs": [
    {
     "name": "stdin",
     "output_type": "stream",
     "text": [
      "enter num to check odd or even: 5\n"
     ]
    },
    {
     "name": "stdout",
     "output_type": "stream",
     "text": [
      "5 a odd number.\n"
     ]
    }
   ],
   "source": [
    "num=int(input(\"enter num to check odd or even:\"))\n",
    "if num % 2 == 0:\n",
    "    print(f\"{num} a even number.\")\n",
    "else:  \n",
    "    print(f\"{num} a odd number.\")\n",
    "\n"
   ]
  },
  {
   "cell_type": "markdown",
   "metadata": {},
   "source": [
    "### 03) WAP to find out largest number from given two numbers using simple if and ternary operator."
   ]
  },
  {
   "cell_type": "code",
   "execution_count": 7,
   "metadata": {},
   "outputs": [
    {
     "data": {
      "text/plain": [
       "20"
      ]
     },
     "execution_count": 7,
     "metadata": {},
     "output_type": "execute_result"
    }
   ],
   "source": [
    "a=10;\n",
    "b=20;\n",
    "a if(a>b) else b\n"
   ]
  },
  {
   "cell_type": "markdown",
   "metadata": {},
   "source": [
    "### 04) WAP to find out largest number from given three numbers."
   ]
  },
  {
   "cell_type": "code",
   "execution_count": 8,
   "metadata": {},
   "outputs": [
    {
     "name": "stdin",
     "output_type": "stream",
     "text": [
      "enter num1: 12\n",
      "enter num2: 14\n",
      "enter num3: 9\n"
     ]
    },
    {
     "name": "stdout",
     "output_type": "stream",
     "text": [
      "14 is greater number\n"
     ]
    }
   ],
   "source": [
    "a=int(input(\"enter num1:\"))\n",
    "b=int(input(\"enter num2:\"))\n",
    "c=int(input(\"enter num3:\"))\n",
    "if a>b and a>c:\n",
    "    print(f\"{a} greater number\")\n",
    "elif b>c:\n",
    "    print(f\"{b} is greater number\")\n",
    "else:\n",
    "    print(f\"{c} is greater number\")\n",
    "\n",
    "\n"
   ]
  },
  {
   "cell_type": "markdown",
   "metadata": {},
   "source": [
    "### 05) WAP to check whether the given year is leap year or not.\n",
    "[If a year can be divisible by 4 but not divisible by 100 then it is leap year but if it is divisible by 400 then it is leap year]"
   ]
  },
  {
   "cell_type": "code",
   "execution_count": 19,
   "metadata": {},
   "outputs": [
    {
     "name": "stdin",
     "output_type": "stream",
     "text": [
      "enter year to check leap year or not: 2017\n"
     ]
    },
    {
     "name": "stdout",
     "output_type": "stream",
     "text": [
      "2017 is not leap year.\n"
     ]
    }
   ],
   "source": [
    "year=int(input(\"enter year to check leap year or not:\"))\n",
    "if year%4==0 and year%100!=0 :\n",
    "    print(f\"{year} is leap year.\")\n",
    "elif year%400==0:\n",
    "    print(f\"{year} is leap year.\")\n",
    "else:\n",
    "    print(f\"{year} is not leap year.\")\n",
    "    \n",
    "    "
   ]
  },
  {
   "cell_type": "markdown",
   "metadata": {},
   "source": [
    "### 06) WAP in python to display the name of the day according to the number given by the user."
   ]
  },
  {
   "cell_type": "code",
   "execution_count": 22,
   "metadata": {},
   "outputs": [
    {
     "name": "stdout",
     "output_type": "stream",
     "text": [
      "Please enter num between 1-7\n"
     ]
    },
    {
     "name": "stdin",
     "output_type": "stream",
     "text": [
      "enter number: 4\n"
     ]
    },
    {
     "name": "stdout",
     "output_type": "stream",
     "text": [
      "Thrusday\n"
     ]
    }
   ],
   "source": [
    "print(\"Please enter num between 1-7\")\n",
    "num=int(input(\"enter number:\"))\n",
    "\n",
    "match num:\n",
    "    case 1:\n",
    "        print(\"Monday\")\n",
    "    case 2:\n",
    "        print(\"Tuesday\")\n",
    "    case 3:\n",
    "        print(\"Wednesday\")\n",
    "    case 4:\n",
    "        print(\"Thrusday\")\n",
    "    case 5:\n",
    "        print(\"Friday\")\n",
    "    case 6:\n",
    "        print(\"Saturday\") \n",
    "    case 7:\n",
    "        print(\"Sunday\")\n",
    "    case _:\n",
    "        print(\"invalid number\")\n",
    "\n"
   ]
  },
  {
   "cell_type": "markdown",
   "metadata": {},
   "source": [
    "### 07) WAP to implement simple calculator which performs (add,sub,mul,div) of two no. based on user input."
   ]
  },
  {
   "cell_type": "code",
   "execution_count": 27,
   "metadata": {},
   "outputs": [
    {
     "name": "stdin",
     "output_type": "stream",
     "text": [
      "enter num1: 12\n",
      "enter num2: 6\n",
      "enter operator: /\n"
     ]
    },
    {
     "name": "stdout",
     "output_type": "stream",
     "text": [
      "a/b=2.0\n"
     ]
    }
   ],
   "source": [
    "a=int(input(\"enter num1:\"))\n",
    "b=int(input(\"enter num2:\"))\n",
    "op=input(\"enter operator:\")\n",
    "\n",
    "match op:\n",
    "    case '+' :\n",
    "        print(f\"a+b={a+b}\")\n",
    "    case '-' :\n",
    "        print(f\"a-b={a-b}\")\n",
    "    case '*':\n",
    "        print(f\"a*b={a*b}\")\n",
    "    case '/':\n",
    "        print(f\"a/b={a/b}\")\n",
    "    case '%':\n",
    "        print(f\"a%b={a%b}\")\n",
    "    case _:\n",
    "        print(\"enter valid operator\")"
   ]
  },
  {
   "cell_type": "markdown",
   "metadata": {},
   "source": [
    "### 08) WAP to read marks of five subjects. Calculate percentage and print class accordingly. \n",
    "Fail below 35 </br>\n",
    "Pass Class between 35 to 45 </br>\n",
    "Second Class</br>\n",
    "between 45 to 60</br>\n",
    "First Class between 60 to 70</br> \n",
    "Distinction if more than 70"
   ]
  },
  {
   "cell_type": "code",
   "execution_count": 30,
   "metadata": {},
   "outputs": [
    {
     "name": "stdin",
     "output_type": "stream",
     "text": [
      "enter sebject 1 mark: 89\n",
      "enter sebject 2 mark: 99\n",
      "enter sebject 3 mark: 78\n",
      "enter sebject 4 mark: 87\n",
      "enter sebject 5 mark: 78\n"
     ]
    },
    {
     "name": "stdout",
     "output_type": "stream",
     "text": [
      "Distinction\n"
     ]
    }
   ],
   "source": [
    "sub1=int(input(\"enter sebject 1 mark:\"))\n",
    "sub2=int(input(\"enter sebject 2 mark:\"))\n",
    "sub3=int(input(\"enter sebject 3 mark:\"))\n",
    "sub4=int(input(\"enter sebject 4 mark:\"))\n",
    "sub5=int(input(\"enter sebject 5 mark:\"))\n",
    "\n",
    "per=((sub1+sub2+sub4+sub5) /500)*100\n",
    "\n",
    "if per<35:\n",
    "    print(\"you are Fail.\")\n",
    "elif per>=35 and per<45:\n",
    "    print(\"you are Pass\")\n",
    "elif per>=45 and per<60:\n",
    "    print(\"Second class\")\n",
    "elif per>=60 and per<70:\n",
    "    print(\"First class\")\n",
    "elif per>=70:\n",
    "    print(\"Distinction\")\n",
    "\n",
    "\n"
   ]
  },
  {
   "cell_type": "markdown",
   "metadata": {},
   "source": [
    "### 09) Three sides of a triangle are entered through the keyboard, WAP to check whether the triangle is isosceles, equilateral, scalene or right-angled triangle."
   ]
  },
  {
   "cell_type": "code",
   "execution_count": 34,
   "metadata": {},
   "outputs": [
    {
     "name": "stdin",
     "output_type": "stream",
     "text": [
      "Enter the first side:  12\n",
      "Enter the second side:  6\n",
      "Enter the third side:  11\n"
     ]
    },
    {
     "name": "stdout",
     "output_type": "stream",
     "text": [
      "Scalene\n"
     ]
    }
   ],
   "source": [
    "a = float(input(\"Enter the first side: \"))\n",
    "b = float(input(\"Enter the second side: \"))\n",
    "c = float(input(\"Enter the third side: \"))\n",
    "\n",
    "if a + b > c and a + c > b and b + c > a:\n",
    "    if a == b == c:\n",
    "        print(\"Equilateral\")\n",
    "    elif a == b or b == c or a == c:\n",
    "        print(\"Isosceles\")\n",
    "    elif a != b and b != c and a != c:\n",
    "        print(\"Scalene\")\n",
    "    else:\n",
    "        print(\"Not a valid triangle\")\n",
    "    \n",
    "    if a*2 + b*2 == c*2 or b*2 + c*2 == a*2 or a*2 + c*2 == b*2:\n",
    "        print(\"Right-Angled\")\n",
    "else:\n",
    "    print(\"Not a valid triangle\")\n"
   ]
  },
  {
   "cell_type": "markdown",
   "metadata": {},
   "source": [
    "### 10) WAP to find the second largest number among three user input numbers."
   ]
  },
  {
   "cell_type": "code",
   "execution_count": 38,
   "metadata": {},
   "outputs": [
    {
     "name": "stdin",
     "output_type": "stream",
     "text": [
      "Enter the first number:  12\n",
      "Enter the second number:  13\n",
      "Enter the third number:  1114\n"
     ]
    },
    {
     "name": "stdout",
     "output_type": "stream",
     "text": [
      "The second largest number is: 13\n"
     ]
    }
   ],
   "source": [
    "\n",
    "a = int(input(\"Enter the first number: \"))\n",
    "b = int(input(\"Enter the second number: \"))\n",
    "c = int(input(\"Enter the third number: \"))\n",
    "\n",
    "if (a > b and a < c) or (a < b and a > c):\n",
    "    print(\"The second largest number is:\", a)\n",
    "elif (b > a and b < c) or (b < a and b > c):\n",
    "    print(\"The second largest number is:\", b)\n",
    "else:\n",
    "    print(f\"The second largest number is:{c}\")"
   ]
  },
  {
   "cell_type": "markdown",
   "metadata": {},
   "source": [
    "### 11) WAP to calculate electricity bill based on following criteria. Which takes the unit from the user.\n",
    "a. First 1 to 50 units – Rs. 2.60/unit</br>\n",
    "b. Next 50 to 100 units – Rs. 3.25/unit</br>\n",
    "c. Next 100 to 200 units – Rs. 5.26/unit</br>\n",
    "d. above 200 units – Rs. 8.45/unit"
   ]
  },
  {
   "cell_type": "code",
   "execution_count": 39,
   "metadata": {},
   "outputs": [
    {
     "name": "stdin",
     "output_type": "stream",
     "text": [
      "Enter the number of units consumed:  50.6\n"
     ]
    },
    {
     "name": "stdout",
     "output_type": "stream",
     "text": [
      "Total electricity bill: Rs. 131.95\n"
     ]
    }
   ],
   "source": [
    "units = float(input(\"Enter the number of units consumed: \"))\n",
    "\n",
    "if units <= 50:\n",
    "    bill = units * 2.60\n",
    "elif units <= 100:\n",
    "    bill = (50 * 2.60) + ((units - 50) * 3.25)\n",
    "elif units <= 200:\n",
    "    bill = (50 * 2.60) + (50 * 3.25) + ((units - 100) * 5.26)\n",
    "else:\n",
    "    bill = (50 * 2.60) + (50 * 3.25) + (100 * 5.26) + ((units - 200) * 8.45)\n",
    "\n",
    "print(f\"Total electricity bill: Rs. {bill:.2f}\")"
   ]
  },
  {
   "cell_type": "code",
   "execution_count": null,
   "metadata": {},
   "outputs": [],
   "source": []
  }
 ],
 "metadata": {
  "kernelspec": {
   "display_name": "Python 3 (ipykernel)",
   "language": "python",
   "name": "python3"
  },
  "language_info": {
   "codemirror_mode": {
    "name": "ipython",
    "version": 3
   },
   "file_extension": ".py",
   "mimetype": "text/x-python",
   "name": "python",
   "nbconvert_exporter": "python",
   "pygments_lexer": "ipython3",
   "version": "3.13.0"
  }
 },
 "nbformat": 4,
 "nbformat_minor": 4
}
