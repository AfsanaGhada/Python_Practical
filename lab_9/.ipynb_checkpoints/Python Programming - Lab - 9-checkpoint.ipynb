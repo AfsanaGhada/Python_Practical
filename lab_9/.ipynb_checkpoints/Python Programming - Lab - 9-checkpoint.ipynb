{
 "cells": [
  {
   "cell_type": "markdown",
   "metadata": {},
   "source": [
    "<a href='https://www.darshan.ac.in/'> <img src='https://www.darshan.ac.in/Content/media/DU_Logo.svg' width=\"250\" height=\"300\"/></a>\n",
    "<pre>\n",
    "<center><b><h1>Python Programming - 2301CS404</b></center>\n",
    "<center><b><h1>Lab - 9</b></center>    \n",
    "    <center><b><h1>Ghada Afsana Date:23/1/25 Enroll:21010101633</b></center>    \n",
    "\n",
    "<pre>"
   ]
  },
  {
   "cell_type": "markdown",
   "metadata": {},
   "source": [
    "# File I/O"
   ]
  },
  {
   "cell_type": "markdown",
   "metadata": {},
   "source": [
    "### 01) WAP to read and display the contents of a text file. (also try to open the file in some other directory) \n",
    "#### - in the form of a string\n",
    "#### - line by line\n",
    "#### - in the form of a list"
   ]
  },
  {
   "cell_type": "code",
   "execution_count": 17,
   "metadata": {},
   "outputs": [
    {
     "name": "stdout",
     "output_type": "stream",
     "text": [
      "File Content as String:\n",
      " Hello\n",
      "How are You\n",
      "I am Fine\n",
      "Python Lab no :9\n",
      "this is example.txt file\n",
      "\n",
      "\n",
      "\n",
      "File Content Line by Line:\n",
      "Hello\n",
      "How are You\n",
      "I am Fine\n",
      "Python Lab no :9\n",
      "this is example.txt file\n",
      "\n",
      "\n",
      "File Content as List:\n",
      "['Hello\\n', 'How are You\\n', 'I am Fine\\n', 'Python Lab no :9\\n', 'this is example.txt file\\n', '\\n']\n"
     ]
    }
   ],
   "source": [
    "fp = open(\"example.txt\", \"r\")\n",
    "content = fp.read()\n",
    "print(\"File Content as String:\\n\", content)\n",
    "fp.close()\n",
    "\n",
    "fp = open(\"example.txt\", \"r\")\n",
    "print(\"\\nFile Content Line by Line:\")\n",
    "for line in fp:\n",
    "    print(line.strip())\n",
    "fp.close()\n",
    "\n",
    "fp = open(\"example.txt\", \"r\" )\n",
    "print(\"\\nFile Content as List:\")\n",
    "print(fp.readlines())\n",
    "fp.close()"
   ]
  },
  {
   "cell_type": "markdown",
   "metadata": {},
   "source": [
    "### 02) WAP to create file named \"new.txt\" only if it doesn't exist."
   ]
  },
  {
   "cell_type": "code",
   "execution_count": 21,
   "metadata": {},
   "outputs": [
    {
     "name": "stdout",
     "output_type": "stream",
     "text": [
      "\n",
      "File 'new.txt' created successfully.\n"
     ]
    }
   ],
   "source": [
    "fp = open(\"new.txt\", \"x\")\n",
    "print(\"\\nFile 'new.txt' created successfully.\")\n",
    "fp.close()\n",
    "\n"
   ]
  },
  {
   "cell_type": "markdown",
   "metadata": {},
   "source": [
    "### 03) WAP to read first 5 lines from the text file."
   ]
  },
  {
   "cell_type": "code",
   "execution_count": 16,
   "metadata": {},
   "outputs": [
    {
     "name": "stdout",
     "output_type": "stream",
     "text": [
      "\n",
      "First 5 Lines of File:\n",
      "Hello\n",
      "How are You\n",
      "I am Fine\n",
      "Python Lab no :9\n",
      "this is example.txt file\n"
     ]
    }
   ],
   "source": [
    "fp = open(\"example.txt\", \"r\")\n",
    "print(\"\\nFirst 5 Lines of File:\")\n",
    "for i in range(5):\n",
    "    line = fp.readline()\n",
    "    if line == \"\":\n",
    "        break\n",
    "    print(line.strip())\n",
    "fp.close()\n",
    " "
   ]
  },
  {
   "cell_type": "markdown",
   "metadata": {},
   "source": [
    "### 04) WAP to find the longest word(s) in a file"
   ]
  },
  {
   "cell_type": "code",
   "execution_count": 32,
   "metadata": {},
   "outputs": [
    {
     "name": "stdout",
     "output_type": "stream",
     "text": [
      "Longest Word(s): ['jupyterntebook']\n"
     ]
    }
   ],
   "source": [
    "fp = open(\"example.txt\", \"r\")\n",
    "words = fp.read().split()\n",
    "max_length = len(max(words, key=len))\n",
    "longest_words = [word for word in words if len(word) == max_length]\n",
    "print(\"Longest Word(s):\", longest_words)\n",
    "fp.close()"
   ]
  },
  {
   "cell_type": "markdown",
   "metadata": {},
   "source": [
    "### 05) WAP to count the no. of lines, words and characters in a given text file."
   ]
  },
  {
   "cell_type": "code",
   "execution_count": 29,
   "metadata": {},
   "outputs": [
    {
     "name": "stdout",
     "output_type": "stream",
     "text": [
      "Total Line in File: 6\n",
      "Total Word In File: 16\n",
      "No of char: 85\n"
     ]
    }
   ],
   "source": [
    "# No of Lines\n",
    "\n",
    "fp = open(\"example.txt\", \"r\")\n",
    "line=fp.readlines()\n",
    "print(\"Total Line in File:\",len(line))\n",
    "\n",
    "#### No of Word\n",
    "\n",
    "fp = open(\"example.txt\", \"r\")\n",
    "data=fp.read()\n",
    "word=data.split()\n",
    "wordcount=len(word)\n",
    "print(\"Total Word In File:\",wordcount)\n",
    "\n",
    "###  No of charaecter\n",
    "\n",
    "fp = open(\"example.txt\", \"r\")\n",
    "fp.seek(0.,2)\n",
    "char=fp.tell()\n",
    "print(\"No of char:\",char)"
   ]
  },
  {
   "cell_type": "markdown",
   "metadata": {},
   "source": [
    "### 06) WAP to copy the content of a file to the another file."
   ]
  },
  {
   "cell_type": "code",
   "execution_count": 31,
   "metadata": {},
   "outputs": [
    {
     "name": "stdout",
     "output_type": "stream",
     "text": [
      "file copy successfully\n"
     ]
    }
   ],
   "source": [
    "fp = open(\"example.txt\", \"rb\")\n",
    "data=fp.read()\n",
    "fp1=open(\"new.txt\",\"wb\")\n",
    "fp1.write(data)\n",
    "print(\"File copy successfully\")\n",
    "fp.close()\n",
    "fp1.close()\n",
    "\n"
   ]
  },
  {
   "cell_type": "markdown",
   "metadata": {},
   "source": [
    "### 07) WAP to find the size of the text file. "
   ]
  },
  {
   "cell_type": "code",
   "execution_count": 33,
   "metadata": {},
   "outputs": [
    {
     "name": "stdout",
     "output_type": "stream",
     "text": [
      "85 bytes\n"
     ]
    }
   ],
   "source": [
    "fp = open(\"example.txt\", \"rb\")\n",
    "fp.seek(0,2)\n",
    "print(fp.tell(),\"bytes\")"
   ]
  },
  {
   "cell_type": "markdown",
   "metadata": {},
   "source": [
    "### 08) WAP to create an UDF named frequency to count occurances of the specific word in a given text file."
   ]
  },
  {
   "cell_type": "code",
   "execution_count": 2,
   "metadata": {},
   "outputs": [
    {
     "name": "stdin",
     "output_type": "stream",
     "text": [
      "Enter the word to find:  hello\n"
     ]
    },
    {
     "name": "stdout",
     "output_type": "stream",
     "text": [
      "The word 'hello' appears 0 times in the file.\n"
     ]
    }
   ],
   "source": [
    "\n",
    "def frequency(filename, word):\n",
    "    with open(filename, \"r\") as file:\n",
    "        content = file.read()\n",
    "    return content.count(word)\n",
    "\n",
    "word_to_find = input(\"Enter the word to find: \")\n",
    "file_name = \"example.txt\"\n",
    "result = frequency(file_name, word_to_find)\n",
    "print(f\"The word '{word_to_find}' appears {result} times in the file.\")"
   ]
  },
  {
   "cell_type": "markdown",
   "metadata": {},
   "source": [
    "### 09) WAP to get the score of five subjects from the user, store them in a file. Fetch those marks and find the highest score."
   ]
  },
  {
   "cell_type": "code",
   "execution_count": 3,
   "metadata": {},
   "outputs": [
    {
     "name": "stdin",
     "output_type": "stream",
     "text": [
      "Enter score for subject 1:  76\n",
      "Enter score for subject 2:  87\n",
      "Enter score for subject 3:  89\n",
      "Enter score for subject 4:  87\n",
      "Enter score for subject 5:  87\n"
     ]
    },
    {
     "name": "stdout",
     "output_type": "stream",
     "text": [
      "Highest Score: 89\n"
     ]
    }
   ],
   "source": [
    "\n",
    "scores = [int(input(f\"Enter score for subject {i+1}: \")) for i in range(5)]\n",
    "with open(\"scores.txt\", \"w\") as file:\n",
    "    file.write(\"\\n\".join(map(str, scores)))\n",
    "\n",
    "with open(\"scores.txt\", \"r\") as file:\n",
    "    fetched_scores = list(map(int, file.readlines()))\n",
    "highest_score = max(fetched_scores)\n",
    "print(\"Highest Score:\", highest_score)"
   ]
  },
  {
   "cell_type": "markdown",
   "metadata": {},
   "source": [
    "### 10) WAP to write first 100 prime numbers to a file named primenumbers.txt \n",
    "(Note: each number should be in new line)"
   ]
  },
  {
   "cell_type": "code",
   "execution_count": 4,
   "metadata": {},
   "outputs": [
    {
     "name": "stdout",
     "output_type": "stream",
     "text": [
      "First 100 prime numbers written to 'primenumbers.txt'.\n"
     ]
    }
   ],
   "source": [
    "\n",
    "def is_prime(n):\n",
    "    if n <= 1:\n",
    "        return False\n",
    "    for i in range(2, int(n**0.5) + 1):\n",
    "        if n % i == 0:\n",
    "            return False\n",
    "    return True\n",
    "\n",
    "with open(\"primenumbers.txt\", \"w\") as file:\n",
    "    count = 0\n",
    "    num = 2\n",
    "    while count < 100:\n",
    "        if is_prime(num):\n",
    "            file.write(f\"{num}\\n\")\n",
    "            count += 1\n",
    "        num += 1\n",
    "print(\"First 100 prime numbers written to 'primenumbers.txt'.\")"
   ]
  },
  {
   "cell_type": "markdown",
   "metadata": {},
   "source": [
    "### 11) WAP to merge two files and write it in a new file."
   ]
  },
  {
   "cell_type": "code",
   "execution_count": 11,
   "metadata": {},
   "outputs": [
    {
     "name": "stdout",
     "output_type": "stream",
     "text": [
      "Files 'file1.txt' and 'file2.txt' merged into 'merged.txt'.\n"
     ]
    }
   ],
   "source": [
    "\n",
    "with open(\"file1.txt\", \"r\") as file1, open(\"file2.txt\", \"r\") as file2:\n",
    "    content1 = file1.read()\n",
    "    content2 = file2.read()\n",
    "\n",
    "with open(\"merged.txt\", \"w\") as merged_file:\n",
    "    merged_file.write(content1 + \"\\n\" + content2)\n",
    "print(\"Files 'file1.txt' and 'file2.txt' merged into 'merged.txt'.\")"
   ]
  },
  {
   "cell_type": "markdown",
   "metadata": {},
   "source": [
    "### 12) WAP to replace word1 by word2 of a text file. Write the updated data to new file."
   ]
  },
  {
   "cell_type": "code",
   "execution_count": null,
   "metadata": {},
   "outputs": [],
   "source": []
  },
  {
   "cell_type": "markdown",
   "metadata": {},
   "source": [
    "### 13) Demonstrate tell() and seek() for all the cases(seek from beginning-end-current position) taking a suitable example of your choice."
   ]
  },
  {
   "cell_type": "code",
   "execution_count": 5,
   "metadata": {},
   "outputs": [
    {
     "name": "stdin",
     "output_type": "stream",
     "text": [
      "Enter the word to replace:  hello\n",
      "Enter the new word:  hi\n"
     ]
    },
    {
     "name": "stdout",
     "output_type": "stream",
     "text": [
      "The word 'hello' has been replaced with 'hi' in 'updated_example.txt'.\n"
     ]
    }
   ],
   "source": [
    "\n",
    "def replace_word(input_file, output_file, word1, word2):\n",
    "    with open(input_file, \"r\") as file:\n",
    "        content = file.read()\n",
    "    \n",
    "    updated_content = content.replace(word1, word2)\n",
    "    \n",
    "    with open(output_file, \"w\") as file:\n",
    "        file.write(updated_content)\n",
    "\n",
    "input_file_name = \"example.txt\"\n",
    "output_file_name = \"updated_example.txt\"\n",
    "word_to_replace = input(\"Enter the word to replace: \")\n",
    "replacement_word = input(\"Enter the new word: \")\n",
    "\n",
    "replace_word(input_file_name, output_file_name, word_to_replace, replacement_word)\n",
    "print(f\"The word '{word_to_replace}' has been replaced with '{replacement_word}' in '{output_file_name}'.\")\n"
   ]
  },
  {
   "cell_type": "code",
   "execution_count": null,
   "metadata": {},
   "outputs": [],
   "source": []
  }
 ],
 "metadata": {
  "kernelspec": {
   "display_name": "Python 3 (ipykernel)",
   "language": "python",
   "name": "python3"
  },
  "language_info": {
   "codemirror_mode": {
    "name": "ipython",
    "version": 3
   },
   "file_extension": ".py",
   "mimetype": "text/x-python",
   "name": "python",
   "nbconvert_exporter": "python",
   "pygments_lexer": "ipython3",
   "version": "3.13.1"
  }
 },
 "nbformat": 4,
 "nbformat_minor": 4
}
