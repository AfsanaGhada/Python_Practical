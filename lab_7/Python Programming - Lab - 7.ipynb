{
 "cells": [
  {
   "cell_type": "markdown",
   "metadata": {},
   "source": [
    "<a href='https://www.darshan.ac.in/'> <img src='https://www.darshan.ac.in/Content/media/DU_Logo.svg' width=\"250\" height=\"300\"/></a>\n",
    "<pre>\n",
    "<center><b><h1>Python Programming - 2301CS404</b></center>\n",
    "<center><b><h1>Lab - 7</b></center>  \n",
    "    <center><b><h1>Ghada Afsana Roll no:24010101633 date:9/1/25</b></center>    \n",
    "\n",
    "<pre>"
   ]
  },
  {
   "cell_type": "markdown",
   "metadata": {},
   "source": [
    "# Set & Dictionary"
   ]
  },
  {
   "cell_type": "markdown",
   "metadata": {},
   "source": [
    "### 01) WAP to iterate over a set."
   ]
  },
  {
   "cell_type": "code",
   "execution_count": 1,
   "metadata": {},
   "outputs": [
    {
     "name": "stdout",
     "output_type": "stream",
     "text": [
      "633\n",
      "10.78\n",
      "(1+8j)\n",
      "afsana\n"
     ]
    }
   ],
   "source": [
    "s1={\"afsana\",633,10.78,1+8j}\n",
    "for i in s1:\n",
    "    print(i)\n",
    "    "
   ]
  },
  {
   "cell_type": "markdown",
   "metadata": {},
   "source": [
    "### 02) WAP to convert set into list, string and tuple."
   ]
  },
  {
   "cell_type": "code",
   "execution_count": 3,
   "metadata": {},
   "outputs": [
    {
     "name": "stdout",
     "output_type": "stream",
     "text": [
      "set to list: [633, 10.78, 'afsana', (1+8j)]\n",
      "set to string: {633, 10.78, 'afsana', (1+8j)}\n",
      "set to tuple: (633, 10.78, 'afsana', (1+8j))\n"
     ]
    }
   ],
   "source": [
    "s1={\"afsana\",633,10.78,1+8j}\n",
    "l1=list(s1)\n",
    "print(\"set to list:\",l1)\n",
    "\n",
    "str1=str(s1)\n",
    "print(\"set to string:\",str1)\n",
    "\n",
    "t1=tuple(s1)\n",
    "print(\"set to tuple:\",t1)\n"
   ]
  },
  {
   "cell_type": "markdown",
   "metadata": {},
   "source": [
    "### 03) WAP to find Maximum and Minimum from a set."
   ]
  },
  {
   "cell_type": "code",
   "execution_count": 5,
   "metadata": {},
   "outputs": [
    {
     "name": "stdout",
     "output_type": "stream",
     "text": [
      "maximum from set: 82\n",
      "minimum from set: 0\n"
     ]
    }
   ],
   "source": [
    "s1={10,23,54,67,82,0}\n",
    "print(\"maximum from set:\",max(s1))\n",
    "print(\"minimum from set:\",min(s1))\n"
   ]
  },
  {
   "cell_type": "markdown",
   "metadata": {},
   "source": [
    "### 04) WAP to perform union of two sets."
   ]
  },
  {
   "cell_type": "code",
   "execution_count": 6,
   "metadata": {},
   "outputs": [
    {
     "name": "stdout",
     "output_type": "stream",
     "text": [
      "union: {0, 67, 10, 10.78, (1+8j), 82, 54, 23, 633, 'afsana'}\n"
     ]
    }
   ],
   "source": [
    "s1={10,23,54,67,82,0}\n",
    "s2={\"afsana\",633,10.78,1+8j,10,67}\n",
    "print(\"union:\",s1.union(s2))"
   ]
  },
  {
   "cell_type": "markdown",
   "metadata": {},
   "source": [
    "### 05) WAP to check if two lists have at-least one element common."
   ]
  },
  {
   "cell_type": "code",
   "execution_count": 10,
   "metadata": {},
   "outputs": [
    {
     "name": "stdout",
     "output_type": "stream",
     "text": [
      "commom element {10, 67}\n"
     ]
    }
   ],
   "source": [
    "l1=[10,23,54,67,82,0]\n",
    "l2=[10,67,43,7,65,32]\n",
    "common=set(l1) & set(l2)\n",
    "if common:\n",
    "    print(\"commom element\",common)\n",
    "else:\n",
    "    print(\"not common\")\n",
    "    "
   ]
  },
  {
   "cell_type": "markdown",
   "metadata": {},
   "source": [
    "### 06) WAP to remove duplicates from list."
   ]
  },
  {
   "cell_type": "code",
   "execution_count": 11,
   "metadata": {},
   "outputs": [
    {
     "name": "stdout",
     "output_type": "stream",
     "text": [
      "remove duplicate after string: [32, 65, 67, 7, 10, 43]\n"
     ]
    }
   ],
   "source": [
    "l2=[10,67,43,7,65,32,10]\n",
    "s1=set(l2)\n",
    "l1=list(s1)\n",
    "print(\"remove duplicate after string:\",l1)\n"
   ]
  },
  {
   "cell_type": "markdown",
   "metadata": {},
   "source": [
    "### 07) WAP to find unique words in the given string."
   ]
  },
  {
   "cell_type": "code",
   "execution_count": 13,
   "metadata": {},
   "outputs": [
    {
     "name": "stdin",
     "output_type": "stream",
     "text": [
      "enter string: dghfsfvvfgwueuioclls\n"
     ]
    },
    {
     "name": "stdout",
     "output_type": "stream",
     "text": [
      "string after spliting: ['dghfsfvvfgwueuioclls']\n",
      "unique words: {'i', 'l', 'g', 'u', 'f', 'd', 'w', 'c', 'e', 's', 'o', 'v', 'h'}\n"
     ]
    }
   ],
   "source": [
    "str1=input(\"enter string:\")\n",
    "print(\"string after spliting:\",str1.split())\n",
    "\n",
    "unique=set(str1)\n",
    "print(\"unique words:\",unique)"
   ]
  },
  {
   "cell_type": "markdown",
   "metadata": {},
   "source": [
    "### 08) WAP to remove common elements of set A & B from set A."
   ]
  },
  {
   "cell_type": "code",
   "execution_count": 16,
   "metadata": {},
   "outputs": [
    {
     "name": "stdout",
     "output_type": "stream",
     "text": [
      "remove common element : {0, 82, 54, 23}\n"
     ]
    }
   ],
   "source": [
    "A={10,23,54,67,82,0}\n",
    "B={10,67,43,7,65,32}\n",
    "print(\"remove common element :\",A.difference(B))"
   ]
  },
  {
   "cell_type": "markdown",
   "metadata": {},
   "source": [
    "### 09) WAP to check whether two given strings are anagram or not using set."
   ]
  },
  {
   "cell_type": "code",
   "execution_count": 19,
   "metadata": {},
   "outputs": [
    {
     "name": "stdin",
     "output_type": "stream",
     "text": [
      "enter string one: gidvv\n",
      "enter string two: afsama\n"
     ]
    },
    {
     "name": "stdout",
     "output_type": "stream",
     "text": [
      "string are to eqal\n",
      "String are not Anagram.\n"
     ]
    }
   ],
   "source": [
    "str1=input(\"enter string one:\")\n",
    "str2=input(\"enter string two:\")\n",
    "if len(str1) != len(str2):\n",
    "    print(\"string are to eqal\")\n",
    "str1=str1.lower()\n",
    "str2=str2.lower()\n",
    "\n",
    "str1=''.join(sorted(str1))\n",
    "str2=''.join(sorted(str2))\n",
    "\n",
    "if str1==str2:\n",
    "    print(\"String are Anagram.\")\n",
    "else:\n",
    "    print(\"String are not Anagram.\")"
   ]
  },
  {
   "cell_type": "markdown",
   "metadata": {},
   "source": [
    "### 10) WAP to find common elements in three lists using set."
   ]
  },
  {
   "cell_type": "code",
   "execution_count": 22,
   "metadata": {},
   "outputs": [
    {
     "name": "stdout",
     "output_type": "stream",
     "text": [
      "common: {1, 2, 3}\n"
     ]
    }
   ],
   "source": [
    "l1=[1,2,3,4,5,6,7,8,9]\n",
    "l2=[1,2,3,44,55,66,77,88]\n",
    "l3=[1,2,3,76,54,33,99]\n",
    "common=set(l1) & set(l2) & set(l3)\n",
    "print(\"common:\",common)"
   ]
  },
  {
   "cell_type": "markdown",
   "metadata": {},
   "source": [
    "### 11) WAP to count number of vowels in given string using set."
   ]
  },
  {
   "cell_type": "code",
   "execution_count": 26,
   "metadata": {},
   "outputs": [
    {
     "name": "stdin",
     "output_type": "stream",
     "text": [
      "enter string: jhfhbf\n"
     ]
    },
    {
     "name": "stdout",
     "output_type": "stream",
     "text": [
      "total no of vowel in given string is: 0\n"
     ]
    }
   ],
   "source": [
    "str1=input(\"enter string:\")\n",
    "count=0\n",
    "s1={'a','e','i','o','u','A','E','I','O','U'}\n",
    "\n",
    "for i in str1:\n",
    "    if i in s1:\n",
    "        count+=1\n",
    "print(\"total no of vowel in given string is:\",count)"
   ]
  },
  {
   "cell_type": "markdown",
   "metadata": {},
   "source": [
    "### 12) WAP to check if a given string is binary string or not."
   ]
  },
  {
   "cell_type": "code",
   "execution_count": 30,
   "metadata": {},
   "outputs": [
    {
     "name": "stdin",
     "output_type": "stream",
     "text": [
      "enter string: 01010101\n"
     ]
    },
    {
     "name": "stdout",
     "output_type": "stream",
     "text": [
      "01010101 is binary string\n"
     ]
    }
   ],
   "source": [
    "str1=input(\"enter string:\")\n",
    "s1=set(str1)\n",
    "binary=s1.issubset({'0','1'})\n",
    "if binary:\n",
    "    print(f'{str1} is binary string')\n",
    "else:\n",
    "    print(f'{str1} is not binary string')\n",
    "\n",
    "\n"
   ]
  },
  {
   "cell_type": "markdown",
   "metadata": {},
   "source": [
    "### 13) WAP to sort dictionary by key or value."
   ]
  },
  {
   "cell_type": "code",
   "execution_count": 1,
   "metadata": {},
   "outputs": [
    {
     "name": "stdout",
     "output_type": "stream",
     "text": [
      "key and value: {11: 'raila', 12: 'asma', 13: 'afsana'}\n"
     ]
    }
   ],
   "source": [
    "d1={13:\"afsana\",12:\"asma\",11:\"raila\"}\n",
    "d2= sorted(d1.keys())\n",
    "sorted={i:d1[i] for i in d2}\n",
    "print(\"key and value:\",sorted)"
   ]
  },
  {
   "cell_type": "markdown",
   "metadata": {},
   "source": [
    "### 14) WAP to find the sum of all items (values) in a dictionary given by user. (Assume: values are numeric)"
   ]
  },
  {
   "cell_type": "code",
   "execution_count": null,
   "metadata": {},
   "outputs": [
    {
     "name": "stdin",
     "output_type": "stream",
     "text": [
      "Enter a dictionary with numeric values (e.g., {'a': 1, 'b': 2}):  {'a':1,'b':2,'c':3}\n"
     ]
    }
   ],
   "source": [
    "user_input = input(\"Enter a dictionary with numeric values (e.g., {'a': 1, 'b': 2}): \")\n",
    "\n",
    "# Convert the input string to a dictionary\n",
    "user_dict = eval(user_input)\n",
    "\n",
    "# Initialize a variable for the sum\n",
    "sum_of_values = 0\n",
    "\n",
    "# Use a `for` loop to iterate over dictionary values\n",
    "for value in user_dict.values():\n",
    "    sum_of_values += value\n",
    "\n",
    "# Print the result\n",
    "print(\"The sum of all values in the dictionary is:\", sum_of_values)"
   ]
  },
  {
   "cell_type": "markdown",
   "metadata": {},
   "source": [
    "### 15) WAP to handle missing keys in dictionaries.\n",
    "#### Example : Given, dict1 = {'a': 5, 'c': 8, 'e': 2} \n",
    "#### if you look for key = 'd', the message given should be 'Key Not Found', otherwise print the value of 'd' in dict1."
   ]
  },
  {
   "cell_type": "code",
   "execution_count": 2,
   "metadata": {},
   "outputs": [
    {
     "name": "stdin",
     "output_type": "stream",
     "text": [
      "enter key: 123gdh\n"
     ]
    },
    {
     "name": "stdout",
     "output_type": "stream",
     "text": [
      "key not found!!\n"
     ]
    }
   ],
   "source": [
    "d1={'a':2,'b':4,'c':6,'d':8,'e':10}\n",
    "key=input(\"enter key:\")\n",
    "\n",
    "if key in d1:\n",
    "    print(\"key found\")\n",
    "    print(f\"The value for key '{key}' is: {d1[key]}\")\n",
    "else:\n",
    "    print(\"key not found!!\")\n"
   ]
  },
  {
   "cell_type": "code",
   "execution_count": null,
   "metadata": {},
   "outputs": [],
   "source": []
  }
 ],
 "metadata": {
  "kernelspec": {
   "display_name": "Python 3 (ipykernel)",
   "language": "python",
   "name": "python3"
  },
  "language_info": {
   "codemirror_mode": {
    "name": "ipython",
    "version": 3
   },
   "file_extension": ".py",
   "mimetype": "text/x-python",
   "name": "python",
   "nbconvert_exporter": "python",
   "pygments_lexer": "ipython3",
   "version": "3.13.1"
  }
 },
 "nbformat": 4,
 "nbformat_minor": 4
}
