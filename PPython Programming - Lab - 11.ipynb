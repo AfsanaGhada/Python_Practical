{
 "cells": [
  {
   "attachments": {},
   "cell_type": "markdown",
   "metadata": {},
   "source": [
    "<a href='https://www.darshan.ac.in/'> <img src='https://www.darshan.ac.in/Content/media/DU_Logo.svg' width=\"250\" height=\"300\"/></a>\n",
    "<pre>\n",
    "<center><b><h1>Python Programming - 2301CS404</b></center>\n",
    "<center><b><h1>Lab - 11</b></center>    \n",
    "<pre>"
   ]
  },
  {
   "cell_type": "markdown",
   "metadata": {},
   "source": [
    "# Modules"
   ]
  },
  {
   "cell_type": "markdown",
   "metadata": {},
   "source": [
    "### 01) WAP to create Calculator module which defines functions like add, sub,mul and div. \n",
    "### Create another .py file that uses the functions available in Calculator module."
   ]
  },
  {
   "cell_type": "code",
   "execution_count": 5,
   "metadata": {},
   "outputs": [
    {
     "ename": "ModuleNotFoundError",
     "evalue": "No module named 'Calculator'",
     "output_type": "error",
     "traceback": [
      "\u001b[1;31m---------------------------------------------------------------------------\u001b[0m",
      "\u001b[1;31mModuleNotFoundError\u001b[0m                       Traceback (most recent call last)",
      "Cell \u001b[1;32mIn[5], line 1\u001b[0m\n\u001b[1;32m----> 1\u001b[0m \u001b[38;5;28;01mimport\u001b[39;00m\u001b[38;5;250m \u001b[39m\u001b[38;5;21;01mCalculator\u001b[39;00m\u001b[38;5;250m \u001b[39m\u001b[38;5;28;01mas\u001b[39;00m\u001b[38;5;250m \u001b[39m\u001b[38;5;21;01mc\u001b[39;00m\n\u001b[0;32m      2\u001b[0m a\u001b[38;5;241m=\u001b[39m\u001b[38;5;241m10\u001b[39m\n\u001b[0;32m      3\u001b[0m b\u001b[38;5;241m=\u001b[39m\u001b[38;5;241m20\u001b[39m\n",
      "\u001b[1;31mModuleNotFoundError\u001b[0m: No module named 'Calculator'"
     ]
    }
   ],
   "source": [
    "import Calculator as c\n",
    "a=10\n",
    "b=20\n",
    "print(\"Addition:\",c.add(a,b))\n",
    "\n",
    "\n",
    "c.main()"
   ]
  },
  {
   "cell_type": "markdown",
   "metadata": {},
   "source": [
    "### 02) WAP to pick a random character from a given String."
   ]
  },
  {
   "cell_type": "code",
   "execution_count": 8,
   "metadata": {},
   "outputs": [
    {
     "name": "stdin",
     "output_type": "stream",
     "text": [
      "enter string : sdrxtcfgvybhjml,\n"
     ]
    },
    {
     "name": "stdout",
     "output_type": "stream",
     "text": [
      "original string : sdrxtcfgvybhjml,\n",
      "random character from given string: j\n"
     ]
    }
   ],
   "source": [
    "import random \n",
    "\n",
    "string=input(\"enter string :\")\n",
    "\n",
    "\n",
    "r=random.choice(string)\n",
    "print(\"random character from given string:\",r)\n"
   ]
  },
  {
   "cell_type": "markdown",
   "metadata": {},
   "source": [
    "### 03) WAP to pick a random element from a given list."
   ]
  },
  {
   "cell_type": "code",
   "execution_count": 10,
   "metadata": {},
   "outputs": [
    {
     "name": "stdout",
     "output_type": "stream",
     "text": [
      "2\n",
      "[0, 3]\n",
      "Random elements: [7, 0, 9, 1]\n"
     ]
    }
   ],
   "source": [
    "import random\n",
    "\n",
    "l=[1,2,3,4,5,6,7,8,9,0]\n",
    "\n",
    "r=random.choice(l)\n",
    "print(r)\n",
    "\n",
    "# using shuffle \\\n",
    "random.shuffle(l)\n",
    "b = l[:2]\n",
    "print(b)\n",
    "\n",
    "# using sample\n",
    "c = random.sample(l, 4)\n",
    "\n",
    "print(\"Random elements:\", c)"
   ]
  },
  {
   "cell_type": "markdown",
   "metadata": {},
   "source": [
    "### 04) WAP to roll a dice in such a way that every time you get the same number."
   ]
  },
  {
   "cell_type": "code",
   "execution_count": null,
   "metadata": {},
   "outputs": [],
   "source": [
    "# import random\n",
    "# # randint([start],[stop])\n",
    "# no = random.randint(1,6)\n",
    "\n"
   ]
  },
  {
   "cell_type": "markdown",
   "metadata": {},
   "source": [
    "### 05) WAP to generate 3 random integers between 100 and 999 which is divisible by 5."
   ]
  },
  {
   "cell_type": "code",
   "execution_count": 17,
   "metadata": {},
   "outputs": [
    {
     "name": "stdout",
     "output_type": "stream",
     "text": [
      "n1: 470\n",
      "n2: 355\n",
      "n3: 515\n"
     ]
    }
   ],
   "source": [
    "import random \n",
    "\n",
    "# randrange([start],stop,[stop])\n",
    "print(\"n1:\",random.randrange(100,999,5))\n",
    "print(\"n2:\",random.randrange(100,999,5))\n",
    "print(\"n3:\",random.randrange(100,999,5))\n",
    "\n"
   ]
  },
  {
   "cell_type": "markdown",
   "metadata": {},
   "source": [
    "### 06) WAP to generate 100 random lottery tickets and pick two lucky tickets from it and announce them as Winner and Runner up respectively."
   ]
  },
  {
   "cell_type": "code",
   "execution_count": 23,
   "metadata": {},
   "outputs": [
    {
     "name": "stdout",
     "output_type": "stream",
     "text": [
      "[20, 20, 20, 20, 20, 20, 20, 20, 20, 20, 20, 20, 20, 20, 20, 20, 20, 20, 20, 20, 20, 20, 20, 20, 20, 20, 20, 20, 20, 20, 20, 20, 20, 20, 20, 20, 20, 20, 20, 20, 20, 20, 20, 20, 20, 20, 20, 20, 20, 20, 20, 20, 20, 20, 20, 20, 20, 20, 20, 20, 20, 20, 20, 20, 20, 20, 20, 20, 20, 20, 20, 20, 20, 20, 20, 20, 20, 20, 20, 20, 20, 20, 20, 20, 20, 20, 20, 20, 20, 20, 20, 20, 20, 20, 20, 20, 20, 20, 20]\n"
     ]
    },
    {
     "ename": "TypeError",
     "evalue": "Population must be a sequence.  For dicts or sets, use sorted(d).",
     "output_type": "error",
     "traceback": [
      "\u001b[1;31m---------------------------------------------------------------------------\u001b[0m",
      "\u001b[1;31mTypeError\u001b[0m                                 Traceback (most recent call last)",
      "Cell \u001b[1;32mIn[23], line 6\u001b[0m\n\u001b[0;32m      4\u001b[0m new\u001b[38;5;241m=\u001b[39m[lottery_ticket \u001b[38;5;28;01mfor\u001b[39;00m i \u001b[38;5;129;01min\u001b[39;00m \u001b[38;5;28mrange\u001b[39m(\u001b[38;5;241m1\u001b[39m,\u001b[38;5;241m100\u001b[39m)]\n\u001b[0;32m      5\u001b[0m \u001b[38;5;28mprint\u001b[39m(new)\n\u001b[1;32m----> 6\u001b[0m two\u001b[38;5;241m=\u001b[39mrandom\u001b[38;5;241m.\u001b[39msample(lottery_ticket,\u001b[38;5;241m2\u001b[39m)\n\u001b[0;32m      8\u001b[0m \u001b[38;5;28mprint\u001b[39m(\u001b[38;5;124m\"\u001b[39m\u001b[38;5;124mWinner:\u001b[39m\u001b[38;5;124m\"\u001b[39m,lottery_ticket[\u001b[38;5;241m0\u001b[39m])\n\u001b[0;32m      9\u001b[0m \u001b[38;5;28mprint\u001b[39m(\u001b[38;5;124m\"\u001b[39m\u001b[38;5;124mRunner up\u001b[39m\u001b[38;5;124m\"\u001b[39m,lottery_ticket[\u001b[38;5;241m1\u001b[39m])\n",
      "File \u001b[1;32mC:\\ProgramData\\anaconda3\\Lib\\random.py:413\u001b[0m, in \u001b[0;36mRandom.sample\u001b[1;34m(self, population, k, counts)\u001b[0m\n\u001b[0;32m    389\u001b[0m \u001b[38;5;66;03m# Sampling without replacement entails tracking either potential\u001b[39;00m\n\u001b[0;32m    390\u001b[0m \u001b[38;5;66;03m# selections (the pool) in a list or previous selections in a set.\u001b[39;00m\n\u001b[0;32m    391\u001b[0m \n\u001b[1;32m   (...)\u001b[0m\n\u001b[0;32m    409\u001b[0m \u001b[38;5;66;03m# too many calls to _randbelow(), making them slower and\u001b[39;00m\n\u001b[0;32m    410\u001b[0m \u001b[38;5;66;03m# causing them to eat more entropy than necessary.\u001b[39;00m\n\u001b[0;32m    412\u001b[0m \u001b[38;5;28;01mif\u001b[39;00m \u001b[38;5;129;01mnot\u001b[39;00m \u001b[38;5;28misinstance\u001b[39m(population, _Sequence):\n\u001b[1;32m--> 413\u001b[0m     \u001b[38;5;28;01mraise\u001b[39;00m \u001b[38;5;167;01mTypeError\u001b[39;00m(\u001b[38;5;124m\"\u001b[39m\u001b[38;5;124mPopulation must be a sequence.  \u001b[39m\u001b[38;5;124m\"\u001b[39m\n\u001b[0;32m    414\u001b[0m                     \u001b[38;5;124m\"\u001b[39m\u001b[38;5;124mFor dicts or sets, use sorted(d).\u001b[39m\u001b[38;5;124m\"\u001b[39m)\n\u001b[0;32m    415\u001b[0m n \u001b[38;5;241m=\u001b[39m \u001b[38;5;28mlen\u001b[39m(population)\n\u001b[0;32m    416\u001b[0m \u001b[38;5;28;01mif\u001b[39;00m counts \u001b[38;5;129;01mis\u001b[39;00m \u001b[38;5;129;01mnot\u001b[39;00m \u001b[38;5;28;01mNone\u001b[39;00m:\n",
      "\u001b[1;31mTypeError\u001b[0m: Population must be a sequence.  For dicts or sets, use sorted(d)."
     ]
    }
   ],
   "source": [
    "\n",
    "# import random \n",
    "\n",
    "# lottery_ticket=random.randint(1,100)\n",
    "# new=[lottery_ticket for i in range(1,100)]\n",
    "# print(new)\n",
    "# two=random.sample(lottery_ticket,2)\n",
    "\n",
    "# print(\"Winner:\",lottery_ticket[0])\n",
    "# print(\"Runner up\",lottery_ticket[1])\n"
   ]
  },
  {
   "cell_type": "markdown",
   "metadata": {},
   "source": [
    "### 07) WAP to print current date and time in Python."
   ]
  },
  {
   "cell_type": "code",
   "execution_count": 27,
   "metadata": {},
   "outputs": [
    {
     "name": "stdout",
     "output_type": "stream",
     "text": [
      "current date and time: 2025-02-12 22:27:41.228102\n"
     ]
    }
   ],
   "source": [
    "import datetime\n",
    "\n",
    "print(\"current date and time:\",datetime.datetime.now())"
   ]
  },
  {
   "cell_type": "markdown",
   "metadata": {},
   "source": [
    "### 08) Subtract a week (7 days) from a given date in Python."
   ]
  },
  {
   "cell_type": "code",
   "execution_count": 28,
   "metadata": {},
   "outputs": [
    {
     "name": "stdout",
     "output_type": "stream",
     "text": [
      "Current time:  2025-02-12 22:32:25.361537\n",
      "2025-02-05 22:32:25.362538\n"
     ]
    }
   ],
   "source": [
    "\n",
    "from datetime import datetime, timedelta\n",
    "print(\"Current time: \", datetime.now())\n",
    "print(datetime.now() - timedelta(days=7))"
   ]
  },
  {
   "cell_type": "markdown",
   "metadata": {},
   "source": [
    "### 09) WAP to Calculate number of days between two given dates."
   ]
  },
  {
   "cell_type": "code",
   "execution_count": 31,
   "metadata": {},
   "outputs": [
    {
     "name": "stdout",
     "output_type": "stream",
     "text": [
      "Number of days between 2024-09-03 and 2024-12-14: 102 days\n"
     ]
    }
   ],
   "source": [
    "from datetime import datetime, timedelta\n",
    "\n",
    "# YYYY-MM-DD format\n",
    "date1 = datetime(2024, 9, 3)\n",
    "date2 = datetime(2024, 12, 14)\n",
    "\n",
    "# Calculate the difference using timedelta\n",
    "difference = date2 - date1\n",
    "\n",
    "# Get the number of days\n",
    "print(f\"Number of days between {date1.date()} and {date2.date()}: {difference.days} days\")\n"
   ]
  },
  {
   "cell_type": "markdown",
   "metadata": {},
   "source": [
    "### 10) WAP to Find the day of the week of a given date.(i.e. wether it is sunday/monday/tuesday/etc.)"
   ]
  },
  {
   "cell_type": "code",
   "execution_count": 32,
   "metadata": {},
   "outputs": [
    {
     "name": "stdin",
     "output_type": "stream",
     "text": [
      "Enter a date (YYYY-MM-DD):  2025-02-12\n"
     ]
    },
    {
     "name": "stdout",
     "output_type": "stream",
     "text": [
      "The day of the week for 2025-02-12 is: Wednesday\n"
     ]
    }
   ],
   "source": [
    "from datetime import datetime\n",
    "\n",
    "date_str = input(\"Enter a date (YYYY-MM-DD): \")\n",
    "\n",
    "# Convert string to datetime object\n",
    "date_obj = datetime.strptime(date_str, \"%Y-%m-%d\")\n",
    "\n",
    "\n",
    "day_of_week = date_obj.weekday()\n",
    "\n",
    "# List of days to map index to actual day name\n",
    "days = [\"Monday\", \"Tuesday\", \"Wednesday\", \"Thursday\", \"Friday\", \"Saturday\", \"Sunday\"]\n",
    "\n",
    "# Output the result\n",
    "print(f\"The day of the week for {date_str} is: {days[day_of_week]}\")\n"
   ]
  },
  {
   "cell_type": "markdown",
   "metadata": {},
   "source": [
    "### 11) WAP to demonstrate the use of date time module."
   ]
  },
  {
   "cell_type": "code",
   "execution_count": 33,
   "metadata": {},
   "outputs": [
    {
     "name": "stdout",
     "output_type": "stream",
     "text": [
      "2025-02-12 22:52:52.100879\n",
      "2025\n",
      "Wednesday\n",
      "2005-12-14 00:00:00\n",
      "September\n"
     ]
    }
   ],
   "source": [
    "import datetime\n",
    "# it return current date and time\n",
    "x = datetime.datetime.now()\n",
    "print(x)\n",
    "\n",
    "# Return the year and name of weekday\n",
    "print(x.year)\n",
    "print(x.strftime(\"%A\"))\n",
    "\n",
    "#creating a date object\n",
    "x = datetime.datetime(2005, 12, 14)\n",
    "\n",
    "print(x)\n",
    "\n",
    "# display name of the month\n",
    "x = datetime.datetime(2005, 9, 29)\n",
    "\n",
    "print(x.strftime(\"%B\"))\n",
    "\n"
   ]
  },
  {
   "cell_type": "markdown",
   "metadata": {},
   "source": [
    "### 12) WAP to demonstrate the use of the math module."
   ]
  },
  {
   "cell_type": "code",
   "execution_count": 37,
   "metadata": {},
   "outputs": [
    {
     "name": "stdin",
     "output_type": "stream",
     "text": [
      "enter n : 64\n"
     ]
    },
    {
     "name": "stdout",
     "output_type": "stream",
     "text": [
      "squre root of n 8.0\n"
     ]
    }
   ],
   "source": [
    "import math\n",
    "n=int(input(\"enter n :\"))\n",
    "print(\"squre root of n\",math.sqrt(n))\n",
    "\n",
    "# print(\"value of pi:\",math.pi())\n",
    "# print(\"ceil :\",math.ceil(3.5))\n",
    "# print(\"floore:\",math.floor(3.5))\n",
    "# print(math.e())"
   ]
  }
 ],
 "metadata": {
  "kernelspec": {
   "display_name": "Python 3 (ipykernel)",
   "language": "python",
   "name": "python3"
  },
  "language_info": {
   "codemirror_mode": {
    "name": "ipython",
    "version": 3
   },
   "file_extension": ".py",
   "mimetype": "text/x-python",
   "name": "python",
   "nbconvert_exporter": "python",
   "pygments_lexer": "ipython3",
   "version": "3.13.1"
  }
 },
 "nbformat": 4,
 "nbformat_minor": 4
}
