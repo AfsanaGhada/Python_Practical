{
 "cells": [
  {
   "cell_type": "markdown",
   "metadata": {},
   "source": [
    "<a href='https://www.darshan.ac.in/'> <img src='https://www.darshan.ac.in/Content/media/DU_Logo.svg' width=\"250\" height=\"300\"/></a>\n",
    "<pre>\n",
    "<center><b><h1>Python Programming - 2301CS404</b></center>\n",
    "<center><b><h1>Lab - 8</b></center>   \n",
    "<center><b><h1>Ghada Afsana roll no:24010101633 date:16/1/25</b></center>    \n",
    "\n",
    "<pre>"
   ]
  },
  {
   "cell_type": "markdown",
   "metadata": {},
   "source": [
    "# User Defined Function"
   ]
  },
  {
   "cell_type": "markdown",
   "metadata": {},
   "source": [
    "### 01) Write a function to calculate BMI given mass and height. (BMI = mass/h**2)"
   ]
  },
  {
   "cell_type": "code",
   "execution_count": 2,
   "metadata": {},
   "outputs": [
    {
     "name": "stdin",
     "output_type": "stream",
     "text": [
      "enter your mass: 50\n",
      "enter your height 5\n"
     ]
    },
    {
     "name": "stdout",
     "output_type": "stream",
     "text": [
      "2.0\n"
     ]
    }
   ],
   "source": [
    "mass=int(input(\"enter your mass:\"))\n",
    "height=int(input(\"enter your height\"))\n",
    "def bmi(mass,height):\n",
    "    return mass/height**2\n",
    "print(\"BMI Is:\",bmi(mass,height))"
   ]
  },
  {
   "cell_type": "markdown",
   "metadata": {},
   "source": [
    "### 02) Write a function that add first n numbers."
   ]
  },
  {
   "cell_type": "code",
   "execution_count": 5,
   "metadata": {},
   "outputs": [
    {
     "name": "stdout",
     "output_type": "stream",
     "text": [
      "Sum of first n number: 55\n"
     ]
    }
   ],
   "source": [
    "\n",
    "def sum_first_n(n):\n",
    "   \n",
    "    return (n * (n + 1)) // 2 \n",
    "\n",
    "print(\"Sum of first n number:\",sum_first_n(10)) "
   ]
  },
  {
   "cell_type": "markdown",
   "metadata": {},
   "source": [
    "### 03) Write a function that returns 1 if the given number is Prime or 0 otherwise."
   ]
  },
  {
   "cell_type": "code",
   "execution_count": 35,
   "metadata": {},
   "outputs": [
    {
     "name": "stdout",
     "output_type": "stream",
     "text": [
      "1\n"
     ]
    }
   ],
   "source": [
    "# num=int(input(\"Enter num to check prime or not:\"))\n",
    "# def prime(num):\n",
    "#     if num % 2 == 0:\n",
    "#         return 1\n",
    "#     else:\n",
    "#         return 0\n",
    "# print(prime(num))\n",
    "\n",
    "def is_prime(number):\n",
    "    Flag=True\n",
    "    for i in range(2,n):\n",
    "        if (n % i) == 0:\n",
    "            Flag =False\n",
    "            break\n",
    "    if flag:\n",
    "           return 1\n",
    "    else:\n",
    "            return 0\n",
    "    \n",
    "       \n",
    "print(prime(70))"
   ]
  },
  {
   "cell_type": "markdown",
   "metadata": {},
   "source": [
    "### 04) Write a function that returns the list of Prime numbers between given two numbers."
   ]
  },
  {
   "cell_type": "code",
   "execution_count": 42,
   "metadata": {},
   "outputs": [
    {
     "name": "stdout",
     "output_type": "stream",
     "text": [
      "list between given two number: [11, 13, 17, 19, 23, 29]\n"
     ]
    }
   ],
   "source": [
    "def check_prime(check):\n",
    "    if check > 1:\n",
    "        for i in range(2, check):\n",
    "            if check % i == 0:\n",
    "                return False\n",
    "        return True\n",
    "    return False\n",
    "\n",
    "list_prime = []\n",
    "for i in range(10,30):\n",
    "    if check_prime(i):\n",
    "        list_prime.append(i)\n",
    "\n",
    "print(\"list between given two number:\",list_prime)"
   ]
  },
  {
   "cell_type": "markdown",
   "metadata": {},
   "source": [
    "### 05) Write a function that returns True if the given string is Palindrome or False otherwise."
   ]
  },
  {
   "cell_type": "code",
   "execution_count": 44,
   "metadata": {},
   "outputs": [
    {
     "name": "stdout",
     "output_type": "stream",
     "text": [
      "true\n"
     ]
    }
   ],
   "source": [
    "def isPalindrome(s):\n",
    "    return s == s[::-1]\n",
    "\n",
    "\n",
    "# Driver code\n",
    "s = \"malayalam\"\n",
    "ans = isPalindrome(s)\n",
    "\n",
    "if ans:\n",
    "    print(\"true\")\n",
    "else:\n",
    "    print(\"false\")"
   ]
  },
  {
   "cell_type": "markdown",
   "metadata": {},
   "source": [
    "### 06) Write a function that returns the sum of all the elements of the list."
   ]
  },
  {
   "cell_type": "code",
   "execution_count": 48,
   "metadata": {},
   "outputs": [
    {
     "name": "stdout",
     "output_type": "stream",
     "text": [
      "103\n"
     ]
    }
   ],
   "source": [
    "numbers=[1,23,45,34]\n",
    "def sum_list(numbers):\n",
    "   \n",
    "    return sum(numbers) \n",
    "print(\"Sum of All element:\",sum_list(numbers))"
   ]
  },
  {
   "cell_type": "markdown",
   "metadata": {},
   "source": [
    "### 07) Write a function to calculate the sum of the first element of each tuples inside the list."
   ]
  },
  {
   "cell_type": "code",
   "execution_count": 2,
   "metadata": {},
   "outputs": [
    {
     "name": "stdout",
     "output_type": "stream",
     "text": [
      "9\n"
     ]
    }
   ],
   "source": [
    "\n",
    "def sum_first_elements(tuples_list):\n",
    "    # Initialize a variable to store the sum\n",
    "    total_sum = 0\n",
    "    \n",
    "    # Loop through each tuple in the list\n",
    "    for t in tuples_list:\n",
    "        # Add the first element of the tuple to total_sum\n",
    "        total_sum += t[0]\n",
    "    \n",
    "    # Return the total sum\n",
    "    return total_sum\n",
    "tuples_list = [(1, 2), (3, 4), (5, 6)]\n",
    "result = sum_first_elements(tuples_list)\n",
    "print(result)  # Output will be 1 + 3 + 5 = 9\n"
   ]
  },
  {
   "cell_type": "markdown",
   "metadata": {},
   "source": [
    "### 08) Write a recursive function to find nth term of Fibonacci Series."
   ]
  },
  {
   "cell_type": "code",
   "execution_count": 3,
   "metadata": {},
   "outputs": [],
   "source": [
    "def fibonacci(n):\n",
    "    # Base case: F(0) = 0, F(1) = 1\n",
    "    if n == 0:\n",
    "        return 0\n",
    "    elif n == 1:\n",
    "        return 1\n",
    "    # Recursive case: F(n) = F(n-1) + F(n-2)\n",
    "    else:\n",
    "        return fibonacci(n-1) + fibonacci(n-2)\n"
   ]
  },
  {
   "cell_type": "markdown",
   "metadata": {},
   "source": [
    "### 09) Write a function to get the name of the student based on the given rollno.\n",
    "#### Example: Given dict1 = {101:'Ajay', 102:'Rahul', 103:'Jay', 104:'Pooja'} find name of student whose rollno = 103"
   ]
  },
  {
   "cell_type": "code",
   "execution_count": 4,
   "metadata": {},
   "outputs": [
    {
     "name": "stdout",
     "output_type": "stream",
     "text": [
      "Jay\n"
     ]
    }
   ],
   "source": [
    "def get_student_name(rollno, student_dict):\n",
    "    # Check if the roll number exists in the dictionary\n",
    "    if rollno in student_dict:\n",
    "        return student_dict[rollno]\n",
    "    else:\n",
    "        return \"Student not found\"\n",
    "# Dictionary of student names with roll numbers\n",
    "dict1 = {101: 'Ajay', 102: 'Rahul', 103: 'Jay', 104: 'Pooja'}\n",
    "\n",
    "# Finding the student name by roll number\n",
    "rollno = 103\n",
    "name = get_student_name(rollno, dict1)\n",
    "print(name)  # Output will be 'Jay'\n"
   ]
  },
  {
   "cell_type": "markdown",
   "metadata": {},
   "source": [
    "### 10) Write a function to get the sum of the scores ending with zero.\n",
    "#### Example : scores = [200, 456, 300, 100, 234, 678] \n",
    "#### Ans = 200 + 300 + 100 = 600"
   ]
  },
  {
   "cell_type": "code",
   "execution_count": 5,
   "metadata": {},
   "outputs": [
    {
     "name": "stdout",
     "output_type": "stream",
     "text": [
      "600\n"
     ]
    }
   ],
   "source": [
    "def sum_scores_ending_with_zero(scores):\n",
    "    # Initialize the sum to 0\n",
    "    total_sum = 0\n",
    "    \n",
    "    # Loop through each score in the list\n",
    "    for score in scores:\n",
    "        # Check if the score ends with zero\n",
    "        if score % 10 == 0:\n",
    "            total_sum += score  # Add to total sum\n",
    "    \n",
    "    # Return the total sum of scores ending with zero\n",
    "    return total_sum\n",
    "scores = [200, 456, 300, 100, 234, 678]\n",
    "result = sum_scores_ending_with_zero(scores)\n",
    "print(result)  # Output will be 200 + 300 + 100 = 600\n"
   ]
  },
  {
   "cell_type": "markdown",
   "metadata": {},
   "source": [
    "### 11) Write a function to invert a given Dictionary.\n",
    "#### hint: keys to values & values to keys\n",
    "#### Before : {'a': 10, 'b':20, 'c':30, 'd':40}\n",
    "#### After : {10:'a', 20:'b', 30:'c', 40:'d'}"
   ]
  },
  {
   "cell_type": "code",
   "execution_count": null,
   "metadata": {},
   "outputs": [],
   "source": []
  },
  {
   "cell_type": "markdown",
   "metadata": {},
   "source": [
    "### 12) Write a function to check whether the given string is Pangram or not.\n",
    "#### hint: Pangram is a string containing all the characters a-z atlest once.\n",
    "#### \"the quick brown fox jumps over the lazy dog\" is a Pangram string."
   ]
  },
  {
   "cell_type": "code",
   "execution_count": 6,
   "metadata": {},
   "outputs": [
    {
     "name": "stdout",
     "output_type": "stream",
     "text": [
      "True\n"
     ]
    }
   ],
   "source": [
    "def is_pangram(s):\n",
    "    # Convert the string to lowercase to handle case insensitivity\n",
    "    s = s.lower()\n",
    "    \n",
    "    # Initialize a set to store unique alphabetic characters\n",
    "    alphabet_set = set()\n",
    "    \n",
    "    # Loop through each character in the string\n",
    "    for char in s:\n",
    "        # Check if the character is an alphabet letter (a-z)\n",
    "        if 'a' <= char <= 'z':\n",
    "            alphabet_set.add(char)\n",
    "    \n",
    "    # If the set contains all 26 letters, it's a Pangram\n",
    "    return len(alphabet_set) == 26\n",
    "sentence = \"the quick brown fox jumps over the lazy dog\"\n",
    "result = is_pangram(sentence)\n",
    "print(result)  # Output will be True, because it's a Pangram\n"
   ]
  },
  {
   "cell_type": "markdown",
   "metadata": {},
   "source": [
    "### 13) Write a function that returns the number of uppercase and lowercase letters in the given string. \n",
    "#### example : Input : s1 = AbcDEfgh ,Ouptput : no_upper = 3, no_lower = 5"
   ]
  },
  {
   "cell_type": "code",
   "execution_count": 7,
   "metadata": {},
   "outputs": [
    {
     "name": "stdout",
     "output_type": "stream",
     "text": [
      "no_upper = 3\n",
      "no_lower = 5\n"
     ]
    }
   ],
   "source": [
    "def count_case_letters(s):\n",
    "    # Initialize counters for uppercase and lowercase letters\n",
    "    no_upper = 0\n",
    "    no_lower = 0\n",
    "    \n",
    "    # Loop through each character in the string\n",
    "    for char in s:\n",
    "        # Check if the character is an uppercase letter\n",
    "        if char.isupper():\n",
    "            no_upper += 1\n",
    "        # Check if the character is a lowercase letter\n",
    "        elif char.islower():\n",
    "            no_lower += 1\n",
    "    \n",
    "    # Return the result as a tuple\n",
    "    return no_upper, no_lower\n",
    "s1 = \"AbcDEfgh\"\n",
    "no_upper, no_lower = count_case_letters(s1)\n",
    "print(\"no_upper =\", no_upper)  # Output will be 3\n",
    "print(\"no_lower =\", no_lower)  # Output will be 5\n",
    "\n"
   ]
  },
  {
   "cell_type": "markdown",
   "metadata": {},
   "source": [
    "### 14) Write a lambda function to get smallest number from the given two numbers."
   ]
  },
  {
   "cell_type": "code",
   "execution_count": 9,
   "metadata": {},
   "outputs": [
    {
     "name": "stdout",
     "output_type": "stream",
     "text": [
      "5\n"
     ]
    }
   ],
   "source": [
    "smallest = lambda a, b: a if a < b else b\n",
    "# Test the lambda function with two numbers\n",
    "result = smallest(5, 10)\n",
    "print(result)  # Output will be 5\n"
   ]
  },
  {
   "cell_type": "markdown",
   "metadata": {},
   "source": [
    "### 15) For the given list of names of students, extract the names having more that 7 characters. Use filter()."
   ]
  },
  {
   "cell_type": "code",
   "execution_count": 12,
   "metadata": {},
   "outputs": [
    {
     "name": "stdout",
     "output_type": "stream",
     "text": [
      "['Benjamin', 'Charlotte']\n"
     ]
    }
   ],
   "source": [
    "# List of student names\n",
    "students = [\"Alex\", \"Benjamin\", \"Charlotte\", \"David\", \"vidhya\", \"asma\", \"afdsana\"]\n",
    "\n",
    "# Use filter to extract names with more than 7 characters\n",
    "long_names = filter(lambda name: len(name) > 7, students)\n",
    "\n",
    "# Convert the filter object to a list and print the result\n",
    "long_names_list = list(long_names)\n",
    "print(long_names_list)\n"
   ]
  },
  {
   "cell_type": "markdown",
   "metadata": {},
   "source": [
    "### 16) For the given list of names of students, convert the first letter of all the names into uppercase. use map()."
   ]
  },
  {
   "cell_type": "code",
   "execution_count": 10,
   "metadata": {},
   "outputs": [
    {
     "name": "stdout",
     "output_type": "stream",
     "text": [
      "['Alex', 'Benjamin', 'Charlotte', 'David', 'Elizabeth', 'John', 'Michael']\n"
     ]
    }
   ],
   "source": [
    "# List of student names\n",
    "students = [\"alex\", \"benjamin\", \"charlotte\", \"david\", \"elizabeth\", \"john\", \"michael\"]\n",
    "\n",
    "# Use map to convert the first letter of each name to uppercase\n",
    "capitalized_names = map(lambda name: name.capitalize(), students)\n",
    "\n",
    "# Convert the map object to a list and print the result\n",
    "capitalized_names_list = list(capitalized_names)\n",
    "print(capitalized_names_list)\n"
   ]
  },
  {
   "cell_type": "markdown",
   "metadata": {},
   "source": [
    "### 17) Write udfs to call the functions with following types of arguments:\n",
    "1. Positional Arguments\n",
    "2. Keyword Arguments\n",
    "3. Default Arguments\n",
    "4. Variable Legngth Positional(*args) & variable length Keyword Arguments (**kwargs)\n",
    "5. Keyword-Only & Positional Only Arguments"
   ]
  },
  {
   "cell_type": "code",
   "execution_count": 15,
   "metadata": {},
   "outputs": [
    {
     "name": "stdout",
     "output_type": "stream",
     "text": [
      "Name: afsana, Age: 18\n"
     ]
    }
   ],
   "source": [
    "#1 Positional Arguments\n",
    "def positional_args(name, age):\n",
    "    print(f\"Name: {name}, Age: {age}\")\n",
    "\n",
    "# Calling the function\n",
    "positional_args(\"afsana\", 18)\n"
   ]
  },
  {
   "cell_type": "code",
   "execution_count": 17,
   "metadata": {},
   "outputs": [
    {
     "name": "stdout",
     "output_type": "stream",
     "text": [
      "Name: asma, Age: 30\n"
     ]
    }
   ],
   "source": [
    "#2.Keyword Arguments\n",
    "def keyword_args(name, age):\n",
    "    print(f\"Name: {name}, Age: {age}\")\n",
    "\n",
    "# Calling the function with keyword arguments\n",
    "keyword_args(name=\"asma\", age=30)\n"
   ]
  },
  {
   "cell_type": "code",
   "execution_count": 18,
   "metadata": {},
   "outputs": [
    {
     "name": "stdout",
     "output_type": "stream",
     "text": [
      "Name: heena, Age: 18\n",
      "Name: jinal, Age: 22\n"
     ]
    }
   ],
   "source": [
    "#3.Default Arguments\n",
    "def default_args(name, age=18):\n",
    "    print(f\"Name: {name}, Age: {age}\")\n",
    "\n",
    "# Calling the function\n",
    "default_args(\"heena\")  # Age defaults to 18\n",
    "default_args(\"jinal\", 22)  # Age is explicitly provided\n"
   ]
  },
  {
   "cell_type": "code",
   "execution_count": 19,
   "metadata": {},
   "outputs": [
    {
     "name": "stdout",
     "output_type": "stream",
     "text": [
      "Arguments passed: (1, 2, 3, 4, 5)\n"
     ]
    }
   ],
   "source": [
    "#4.Variable Legngth Positional(*args) & variable length Keyword Arguments (**kwargs)\n",
    "\n",
    "def variable_length_positional(*args):\n",
    "    print(\"Arguments passed:\", args)\n",
    "\n",
    "# Calling the function with variable arguments\n",
    "variable_length_positional(1, 2, 3, 4, 5)\n"
   ]
  },
  {
   "cell_type": "code",
   "execution_count": 21,
   "metadata": {},
   "outputs": [
    {
     "name": "stdout",
     "output_type": "stream",
     "text": [
      "Keyword arguments: {'name': 'Afsana', 'age': 18, 'city': 'New York'}\n"
     ]
    }
   ],
   "source": [
    "#5.Keyword-Only & Positional Only Arguments\n",
    "\n",
    "def variable_length_keyword(**kwargs):\n",
    "    print(\"Keyword arguments:\", kwargs)\n",
    "\n",
    "# Calling the function with variable keyword arguments\n",
    "variable_length_keyword(name=\"Afsana\", age=18, city=\"New York\")\n"
   ]
  },
  {
   "cell_type": "code",
   "execution_count": null,
   "metadata": {},
   "outputs": [],
   "source": []
  }
 ],
 "metadata": {
  "kernelspec": {
   "display_name": "Python 3 (ipykernel)",
   "language": "python",
   "name": "python3"
  },
  "language_info": {
   "codemirror_mode": {
    "name": "ipython",
    "version": 3
   },
   "file_extension": ".py",
   "mimetype": "text/x-python",
   "name": "python",
   "nbconvert_exporter": "python",
   "pygments_lexer": "ipython3",
   "version": "3.13.1"
  }
 },
 "nbformat": 4,
 "nbformat_minor": 4
}
