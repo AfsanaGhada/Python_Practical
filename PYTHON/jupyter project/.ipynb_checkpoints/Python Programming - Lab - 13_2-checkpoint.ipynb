{
 "cells": [
  {
   "cell_type": "markdown",
   "metadata": {},
   "source": [
    "<a href='https://www.darshan.ac.in/'> <img src='https://www.darshan.ac.in/Content/media/DU_Logo.svg' width=\"250\" height=\"300\"/></a>\n",
    "<pre>\n",
    "<center><b><h1>Python Programming - 2301CS404</b></center>\n",
    "<center><b><h1>Lab - 13</b></center>    \n",
    "    <center><b><h1>Ghada Afsana Enroll No:24010101633 Date:10/3/2025</b></center>    \n",
    "\n",
    "<pre>"
   ]
  },
  {
   "cell_type": "markdown",
   "metadata": {},
   "source": [
    "## Continued.."
   ]
  },
  {
   "cell_type": "markdown",
   "metadata": {},
   "source": [
    "### 10) Calculate area of a ractangle using object as an argument to a method."
   ]
  },
  {
   "cell_type": "code",
   "execution_count": 12,
   "metadata": {},
   "outputs": [
    {
     "name": "stdout",
     "output_type": "stream",
     "text": [
      "Area Of Rectangle: 20\n"
     ]
    }
   ],
   "source": [
    "class Rectangle:\n",
    "    def __init__(self,l,w):\n",
    "        self.length=l\n",
    "        self.height=w\n",
    "    def area(rect):\n",
    "        return rect.length * rect.height\n",
    "\n",
    "r=Rectangle(10,2)\n",
    "print(\"Area Of Rectangle:\",area(r))"
   ]
  },
  {
   "cell_type": "markdown",
   "metadata": {},
   "source": [
    "### 11) Calculate the area of a square. \n",
    "### Include a Constructor, a method to calculate area named area() and a method named output() that prints the output and is invoked by area()."
   ]
  },
  {
   "cell_type": "code",
   "execution_count": 10,
   "metadata": {},
   "outputs": [
    {
     "name": "stdout",
     "output_type": "stream",
     "text": [
      "Area of the square: 36\n"
     ]
    }
   ],
   "source": [
    "class Square:\n",
    "    def __init__(self, side):\n",
    "        self.side = side \n",
    "\n",
    "    def area(self):\n",
    "        result = self.side * self.side\n",
    "        self.output(result)  \n",
    "\n",
    "    def output(self, result):\n",
    "        print(f\"Area of the square: {result}\")\n",
    "sq = Square(6)\n",
    "sq.area()\n"
   ]
  },
  {
   "cell_type": "markdown",
   "metadata": {},
   "source": [
    "### 12) Calculate the area of a rectangle. \n",
    "### Include a Constructor, a method to calculate area named area() and a method named output() that prints the output and is invoked by area().\n",
    "### Also define a class method that compares the two sides of reactangle. An object is instantiated only if the two sides are different; otherwise a message should be displayed : THIS IS SQUARE."
   ]
  },
  {
   "cell_type": "code",
   "execution_count": 31,
   "metadata": {},
   "outputs": [
    {
     "name": "stdout",
     "output_type": "stream",
     "text": [
      "THIS IS SQUARE.\n"
     ]
    }
   ],
   "source": [
    "class Rectangle:\n",
    "    def __init__(self, length, width):\n",
    "        if length == width:\n",
    "            print(\"THIS IS SQUARE.\")\n",
    "        else:\n",
    "            self.length = length\n",
    "            self.width = width\n",
    "\n",
    "    def area(self):\n",
    "        result = self.length * self.width\n",
    "        self.output(result) \n",
    "\n",
    "    def output(self, result):\n",
    "        print(f\"Area of the rectangle: {result}\")\n",
    "\n",
    "    @classmethod\n",
    "    def create_rectangle(cls, length, width):\n",
    "        if length == width:\n",
    "            print(\"THIS IS SQUARE.\")\n",
    "            return None\n",
    "        return cls(length, width)\n",
    "\n",
    "rect = Rectangle.create_rectangle(5, 5)\n",
    "\n",
    "if rect:\n",
    "    rect.area()\n"
   ]
  },
  {
   "cell_type": "markdown",
   "metadata": {},
   "source": [
    "### 13) Define a class Square having a private attribute \"side\". \n",
    "### Implement get_side and set_side methods to accees the private attribute from outside of the class."
   ]
  },
  {
   "cell_type": "code",
   "execution_count": 9,
   "metadata": {},
   "outputs": [
    {
     "name": "stdout",
     "output_type": "stream",
     "text": [
      "Square side 4\n",
      "Updated Square side 6\n"
     ]
    }
   ],
   "source": [
    "class Square:\n",
    "    def __init__(self,side):\n",
    "        self.__side=side\n",
    "    def get_side(self):\n",
    "        s = self.__side\n",
    "        return s\n",
    "    def set_side(self,side):\n",
    "        self.__side=side\n",
    "\n",
    "sq=Square(4)\n",
    "print(\"Square side\",sq.get_side())\n",
    "sq=Square(6)\n",
    "print(\"Updated Square side\",sq.get_side())"
   ]
  },
  {
   "cell_type": "markdown",
   "metadata": {},
   "source": [
    "### 14) Create a class Profit that has a method named getProfit that accepts profit from the user.\n",
    "### Create a class Loss that has a method named getLoss that accepts loss from the user.\n",
    "### Create a class BalanceSheet that inherits from both classes Profit and Loss and calculates the balanace. It has two methods getBalance() and printBalance()."
   ]
  },
  {
   "cell_type": "code",
   "execution_count": 14,
   "metadata": {},
   "outputs": [
    {
     "name": "stdin",
     "output_type": "stream",
     "text": [
      "Enter Profit:  10000\n",
      "Enter Loss:  13456\n"
     ]
    },
    {
     "name": "stdout",
     "output_type": "stream",
     "text": [
      "Net Balance: -3456\n"
     ]
    }
   ],
   "source": [
    "class Profit:\n",
    "    def getProfit(self):\n",
    "        self.profit = int(input(\"Enter Profit: \"))\n",
    "\n",
    "class Loss:\n",
    "    def getLoss(self):\n",
    "        self.loss = int(input(\"Enter Loss: \"))\n",
    "\n",
    "class BalanceSheet(Profit, Loss):\n",
    "    def getBalance(self):\n",
    "        self.getProfit()\n",
    "        self.getLoss()\n",
    "        self.balance = self.profit - self.loss\n",
    "\n",
    "    def printBalance(self):\n",
    "        print(\"Net Balance:\", self.balance)\n",
    "\n",
    "bs = BalanceSheet()\n",
    "bs.getBalance()\n",
    "\n",
    "bs.printBalance()\n"
   ]
  },
  {
   "attachments": {},
   "cell_type": "markdown",
   "metadata": {},
   "source": [
    "### 15) WAP to demonstrate all types of inheritance."
   ]
  },
  {
   "cell_type": "code",
   "execution_count": 24,
   "metadata": {},
   "outputs": [
    {
     "name": "stdout",
     "output_type": "stream",
     "text": [
      "Single Inheritance\n",
      "Parent Method\n",
      "\n",
      "Multiple Inheritance\n",
      "Class A\n",
      "Class B\n",
      "\n",
      "Multilevel Inheritance\n",
      "Class GrandPerent\n",
      "Class Perent\n",
      "Class Child\n",
      "\n",
      "Hierarchical Inheritance\n",
      "Base Class\n",
      "Base Class\n",
      "\n",
      "Hybrid Inheritance\n",
      "Class X\n",
      "Class Y\n",
      "Class Z\n",
      "Class W\n"
     ]
    }
   ],
   "source": [
    "print(\"Single Inheritance\")\n",
    "class Parents:\n",
    "    def show(self):\n",
    "        print(\"Parent Method\")\n",
    "class Child(Parents):\n",
    "    pass\n",
    "\n",
    "c=Child()\n",
    "c.show()\n",
    "\n",
    "\n",
    "#Multiple Inheritance\n",
    "print(\"\\nMultiple Inheritance\")\n",
    "class A:\n",
    "    def showA(self):\n",
    "        print(\"Class A\")\n",
    "class B:\n",
    "     def showB(self):\n",
    "        print(\"Class B\")\n",
    "class C(A,B):\n",
    "    pass\n",
    "\n",
    "c=C()\n",
    "c.showA()\n",
    "c.showB()\n",
    "\n",
    "#Multilevel Inheritance\n",
    "print(\"\\nMultilevel Inheritance\")\n",
    "class GrandPerent:\n",
    "    def showGP(self):\n",
    "        print(\"Class GrandPerent\")\n",
    "class Perent:\n",
    "     def showP(self):\n",
    "        print(\"Class Perent\")\n",
    "class Child(GrandPerent,Perent):\n",
    "    def showC(self):\n",
    "        print(\"Class Child\")\n",
    "\n",
    "obj=Child()\n",
    "obj.showGP()\n",
    "obj.showP()\n",
    "obj.showC()\n",
    "\n",
    "\n",
    "# 4. Hierarchical Inheritance\n",
    "\n",
    "print(\"\\nHierarchical Inheritance\")\n",
    "class Base:\n",
    "    def baseMethod(self):\n",
    "        print(\"Base Class\")\n",
    "\n",
    "class Derived1(Base):\n",
    "    def derived1Method(self):\n",
    "        print(\"Derived Class 1\")\n",
    "\n",
    "class Derived2(Base):\n",
    "    \n",
    "    def derived2Method(self):\n",
    "        print(\"Derived Class 2\")\n",
    "\n",
    "d1 = Derived1()\n",
    "d2 = Derived2()\n",
    "d1.baseMethod()\n",
    "d2.baseMethod()\n",
    "\n",
    "# 5. Hybrid Inheritance\n",
    "print(\"\\nHybrid Inheritance\")\n",
    "class X:\n",
    "    def showX(self):\n",
    "        print(\"Class X\")\n",
    "\n",
    "class Y(X):\n",
    "    def showY(self):\n",
    "        print(\"Class Y\")\n",
    "\n",
    "class Z(X):\n",
    "    def showZ(self):\n",
    "        print(\"Class Z\")\n",
    "\n",
    "class W(Y, Z):\n",
    "    def showW(self):\n",
    "        print(\"Class W\")\n",
    "\n",
    "obj3 = W()\n",
    "obj3.showX()\n",
    "obj3.showY()\n",
    "obj3.showZ()\n",
    "obj3.showW()"
   ]
  },
  {
   "cell_type": "markdown",
   "metadata": {},
   "source": [
    "### 16) Create a Person class with a constructor that takes two arguments name and age. \n",
    "### Create a child class Employee that inherits from Person and adds a new attribute salary. \n",
    "### Override the __init__ method in Employee to call the parent class's __init__ method using the super() and then initialize the salary attribute."
   ]
  },
  {
   "cell_type": "code",
   "execution_count": 35,
   "metadata": {},
   "outputs": [
    {
     "name": "stdout",
     "output_type": "stream",
     "text": [
      "Name Afsana\n",
      "Age: 19\n",
      "Salary: 12000\n"
     ]
    }
   ],
   "source": [
    "class Person:\n",
    "    def __init__(self,name,age):\n",
    "        self.name=name\n",
    "        self.age=age\n",
    "\n",
    "class Employee(Person):\n",
    "    def __init__(self,name,age,salary):\n",
    "        super().__init__(name,age)\n",
    "        self.salary=salary\n",
    "    def show(self):\n",
    "        print(\"Name\",self.name)\n",
    "        print(\"Age:\",self.age)\n",
    "        print(\"Salary:\",self.salary)\n",
    "e=Employee(\"Afsana\",19,12000)\n",
    "e.show()\n",
    "            "
   ]
  },
  {
   "cell_type": "markdown",
   "metadata": {},
   "source": [
    "### 17) Create a Shape class with a draw method that is not implemented. \n",
    "### Create three child classes Rectangle, Circle, and Triangle that implement the draw method with their respective drawing behaviors. \n",
    "### Create a list of Shape objects that includes one instance of each child class, and then iterate through the list and call the draw method on each object."
   ]
  },
  {
   "cell_type": "code",
   "execution_count": 6,
   "metadata": {},
   "outputs": [
    {
     "name": "stdout",
     "output_type": "stream",
     "text": [
      "Drawing a Rectangle\n",
      "Drawing a Circle\n",
      "Drawing a Triangle\n"
     ]
    }
   ],
   "source": [
    "# Parent Shape class with an unimplemented draw method\n",
    "class Shape:\n",
    "    def draw(self):\n",
    "        pass  # Abstract method (not implemented)\n",
    "\n",
    "# Child classes implementing the draw method\n",
    "class Rectangle(Shape):\n",
    "    def draw(self):\n",
    "        print(\"Drawing a Rectangle\")\n",
    "\n",
    "class Circle(Shape):\n",
    "    def draw(self):\n",
    "        print(\"Drawing a Circle\")\n",
    "\n",
    "class Triangle(Shape):\n",
    "    def draw(self):\n",
    "        print(\"Drawing a Triangle\")\n",
    "\n",
    "# Creating a list of shape objects\n",
    "shapes = [Rectangle(), Circle(), Triangle()]\n",
    "\n",
    "# Iterating through the list and calling the draw method\n",
    "for shape in shapes:\n",
    "    shape.draw()  \n"
   ]
  },
  {
   "cell_type": "code",
   "execution_count": null,
   "metadata": {},
   "outputs": [],
   "source": []
  }
 ],
 "metadata": {
  "kernelspec": {
   "display_name": "Python 3 (ipykernel)",
   "language": "python",
   "name": "python3"
  },
  "language_info": {
   "codemirror_mode": {
    "name": "ipython",
    "version": 3
   },
   "file_extension": ".py",
   "mimetype": "text/x-python",
   "name": "python",
   "nbconvert_exporter": "python",
   "pygments_lexer": "ipython3",
   "version": "3.13.1"
  }
 },
 "nbformat": 4,
 "nbformat_minor": 4
}
