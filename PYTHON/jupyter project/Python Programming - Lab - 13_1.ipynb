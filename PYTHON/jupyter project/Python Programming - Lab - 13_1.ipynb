{
 "cells": [
  {
   "cell_type": "markdown",
   "metadata": {},
   "source": [
    "<a href='https://www.darshan.ac.in/'> <img src='https://www.darshan.ac.in/Content/media/DU_Logo.svg' width=\"250\" height=\"300\"/></a>\n",
    "<pre>\n",
    "<center><b><h1>Python Programming - 2301CS404</b></center>\n",
    "<center><b><h1>Lab - 13</b></center>    \n",
    "    <center><b><h1>Ghada Afsana Roll no:24010101633 Date:6/3/2025</b></center>    \n",
    "\n",
    "<pre>"
   ]
  },
  {
   "cell_type": "markdown",
   "metadata": {},
   "source": [
    "# OOP"
   ]
  },
  {
   "cell_type": "markdown",
   "metadata": {},
   "source": [
    "### 01) Write a Program to create a class by name Students, and initialize attributes like name, age, and grade while creating an object."
   ]
  },
  {
   "cell_type": "code",
   "execution_count": 1,
   "metadata": {},
   "outputs": [
    {
     "name": "stdout",
     "output_type": "stream",
     "text": [
      "Name: Afsana\n",
      "Age: 19\n",
      "Grade: AA\n"
     ]
    }
   ],
   "source": [
    "class Students:\n",
    "    def Display(self,Name,Age,Grade):\n",
    "        print(\"Name:\",Name)\n",
    "        print(\"Age:\",Age)\n",
    "        print(\"Grade:\",Grade)\n",
    "\n",
    "s1=Students()\n",
    "s1.Display(\"Afsana\",19,\"AA\")\n",
    "        \n",
    "    "
   ]
  },
  {
   "cell_type": "markdown",
   "metadata": {},
   "source": [
    "### 02) Create a class named Bank_Account with Account_No, User_Name, Email,Account_Type and Account_Balance data members. Also create a method GetAccountDetails() and DisplayAccountDetails(). Create main method to demonstrate the Bank_Account class."
   ]
  },
  {
   "cell_type": "code",
   "execution_count": 5,
   "metadata": {},
   "outputs": [
    {
     "name": "stdout",
     "output_type": "stream",
     "text": [
      "Account No: 12345\n",
      "User Name: Afsana\n",
      "Email: Afsana@example.com\n",
      "Account Type: Savings\n",
      "Account Balance: 5000\n"
     ]
    }
   ],
   "source": [
    "class Bank_Account:\n",
    "    def __init__(self, account_no, user_name, email, account_type, account_balance):\n",
    "        self.account_no = account_no\n",
    "        self.user_name = user_name\n",
    "        self.email = email\n",
    "        self.account_type = account_type\n",
    "        self.account_balance = account_balance\n",
    "\n",
    "    def get_account_details(self):\n",
    "        return self.account_no, self.user_name, self.email, self.account_type, self.account_balance\n",
    "\n",
    "    def display_account_details(self):\n",
    "        print(\"Account No:\", self.account_no)\n",
    "        print(\"User Name:\", self.user_name)\n",
    "        print(\"Email:\", self.email)\n",
    "        print(\"Account Type:\", self.account_type)\n",
    "        print(\"Account Balance:\", self.account_balance)\n",
    "\n",
    "    account = Bank_Account(12345, \"Afsana\", \"Afsana@example.com\", \"Savings\", 5000)\n",
    "    account.display_account_details()"
   ]
  },
  {
   "cell_type": "markdown",
   "metadata": {},
   "source": [
    "### 03) WAP to create Circle class with area and perimeter function to find area and perimeter of circle."
   ]
  },
  {
   "cell_type": "code",
   "execution_count": 11,
   "metadata": {},
   "outputs": [
    {
     "name": "stdin",
     "output_type": "stream",
     "text": [
      "Enter the radius of the circle:  9\n"
     ]
    },
    {
     "name": "stdout",
     "output_type": "stream",
     "text": [
      "Area of Circle: 254.46900494077323\n",
      "Perimeter of Circle: 56.548667764616276\n"
     ]
    }
   ],
   "source": [
    "import math\n",
    "\n",
    "class Circle:\n",
    "    def __init__(self, radius):\n",
    "        self.radius = radius\n",
    "\n",
    "    def area(self):\n",
    "        return math.pi * self.radius * self.radius\n",
    "\n",
    "    def perimeter(self):\n",
    "        return 2 * math.pi * self.radius\n",
    "\n",
    "    r = float(input(\"Enter the radius of the circle: \"))\n",
    "    circle = Circle(r)\n",
    "    \n",
    "    print(\"Area of Circle:\", circle.area())\n",
    "    print(\"Perimeter of Circle:\", circle.perimeter())\n"
   ]
  },
  {
   "cell_type": "markdown",
   "metadata": {},
   "source": [
    "### 04) Create a class for employees that includes attributes such as name, age, salary, and methods to update and display employee information."
   ]
  },
  {
   "cell_type": "code",
   "execution_count": 14,
   "metadata": {},
   "outputs": [
    {
     "name": "stdout",
     "output_type": "stream",
     "text": [
      "Employee Name: Afsana\n",
      "Employee Age: 30\n",
      "Employee Salary: 50000\n",
      "\n",
      "Updating Employee Details...\n",
      "Employee Name: Afsana\n",
      "Employee Age: 32\n",
      "Employee Salary: 55000\n"
     ]
    }
   ],
   "source": [
    "class Employee:\n",
    "    def __init__(self, name, age, salary):\n",
    "        self.name = name\n",
    "        self.age = age\n",
    "        self.salary = salary\n",
    "\n",
    "    def update_employee(self, name=None, age=None, salary=None):\n",
    "        if name:\n",
    "            self.name = name\n",
    "        if age:\n",
    "            self.age = age\n",
    "        if salary:\n",
    "            self.salary = salary\n",
    "\n",
    "    def display_employee(self):\n",
    "        print(\"Employee Name:\", self.name)\n",
    "        print(\"Employee Age:\", self.age)\n",
    "        print(\"Employee Salary:\", self.salary)\n",
    "\n",
    "# if __name__ == \"__main__\":\n",
    "    emp = Employee(\"Afsana\", 30, 50000)\n",
    "    emp.display_employee()\n",
    "    \n",
    "    print(\"\\nUpdating Employee Details...\")\n",
    "    emp.update_employee(age=32, salary=55000)\n",
    "    emp.display_employee()\n"
   ]
  },
  {
   "cell_type": "markdown",
   "metadata": {},
   "source": [
    "### 05) Create a bank account class with methods to deposit, withdraw, and check balance."
   ]
  },
  {
   "cell_type": "code",
   "execution_count": 18,
   "metadata": {},
   "outputs": [
    {
     "name": "stdout",
     "output_type": "stream",
     "text": [
      "Balance: 1000\n",
      "Deposited: 500\n",
      "Withdrawn: 300\n",
      "Balance: 1200\n"
     ]
    }
   ],
   "source": [
    "class BankAccount:\n",
    "    def __init__(self, balance=0):\n",
    "        self.balance = balance\n",
    "\n",
    "    def deposit(self, amount):\n",
    "        self.balance += amount\n",
    "        print(\"Deposited:\", amount)\n",
    "\n",
    "    def withdraw(self, amount):\n",
    "        if amount <= self.balance:\n",
    "            self.balance -= amount\n",
    "            print(\"Withdrawn:\", amount)\n",
    "        else:\n",
    "            print(\"Insufficient balance\")\n",
    "\n",
    "    def check_balance(self):\n",
    "        print(\"Balance:\", self.balance)\n",
    "\n",
    "    account = BankAccount(1000)\n",
    "    account.check_balance()\n",
    "    account.deposit(500)\n",
    "    account.withdraw(300)\n",
    "    account.check_balance()"
   ]
  },
  {
   "cell_type": "markdown",
   "metadata": {},
   "source": [
    "### 06) Create a class for managing inventory that includes attributes such as item name, price, quantity, and methods to add, remove, and update items."
   ]
  },
  {
   "cell_type": "code",
   "execution_count": 29,
   "metadata": {},
   "outputs": [
    {
     "name": "stdout",
     "output_type": "stream",
     "text": [
      "Inventory:\n",
      "Apple - Price: 15, Quantity: 10\n",
      "Banana - Price: 55, Quantity: 20\n"
     ]
    }
   ],
   "source": [
    "class Item:\n",
    "    def __init__(self, name, price, quantity):\n",
    "        self.name = name\n",
    "        self.price = price\n",
    "        self.quantity = quantity\n",
    "\n",
    "class Inventory:\n",
    "    def __init__(self):\n",
    "        self.items = []\n",
    "\n",
    "    def add_item(self, name, price, quantity):\n",
    "        self.items.append(Item(name, price, quantity))\n",
    "\n",
    "    def remove_item(self, name, quantity):\n",
    "        for item in self.items:\n",
    "            if item.name == name and item.quantity >= quantity:\n",
    "                item.quantity -= quantity\n",
    "                if item.quantity == 0:\n",
    "                    self.items.remove(item)\n",
    "                break\n",
    "\n",
    "    def display_inventory(self):\n",
    "        print(\"Inventory:\")\n",
    "        for item in self.items:\n",
    "            print(f\"{item.name} - Price: {item.price}, Quantity: {item.quantity}\")\n",
    "\n",
    "    inventory = Inventory()\n",
    "    inventory.add_item(\"Apple\", 15, 10)\n",
    "    inventory.add_item(\"Banana\", 55, 20)\n",
    "    inventory.display_inventory()\n"
   ]
  },
  {
   "cell_type": "markdown",
   "metadata": {},
   "source": [
    "### 07) Create a Class with instance attributes of your choice."
   ]
  },
  {
   "cell_type": "code",
   "execution_count": 31,
   "metadata": {},
   "outputs": [
    {
     "name": "stdout",
     "output_type": "stream",
     "text": [
      "Name: Afsana, Age: 25\n"
     ]
    }
   ],
   "source": [
    "class Person:\n",
    "    def __init__(self, name, age):\n",
    "        self.name = name\n",
    "        self.age = age\n",
    "\n",
    "    def display(self):\n",
    "        print(f\"Name: {self.name}, Age: {self.age}\")\n",
    "\n",
    "    person = Person(\"Afsana\", 25)\n",
    "    person.display()\n"
   ]
  },
  {
   "cell_type": "markdown",
   "metadata": {},
   "source": [
    "### 08) Create one class student_kit\n",
    "#### Within the student_kit class create one class attribute principal name ( Mr ABC )\n",
    "#### Create one attendance method and take input as number of days.\n",
    "#### While creating student take input their name .\n",
    "#### Create one certificate for each student by taking input of number of days present in class."
   ]
  },
  {
   "cell_type": "code",
   "execution_count": 1,
   "metadata": {},
   "outputs": [
    {
     "name": "stdin",
     "output_type": "stream",
     "text": [
      "Enter student name:  jjh\n",
      "Enter number of days present:  21\n"
     ]
    },
    {
     "name": "stdout",
     "output_type": "stream",
     "text": [
      "Certificate\n",
      "Principal: Mr ABC\n",
      "Student: jjh\n",
      "Days Present: 21\n"
     ]
    }
   ],
   "source": [
    "class StudentKit:\n",
    "    principal_name = \"Mr ABC\"\n",
    "\n",
    "    def __init__(self, name):\n",
    "        self.name = name\n",
    "\n",
    "    def attendance(self, days):\n",
    "        self.days_present = days\n",
    "\n",
    "    def certificate(self):\n",
    "        print(f\"Certificate\\nPrincipal: {StudentKit.principal_name}\\nStudent: {self.name}\\nDays Present: {self.days_present}\")\n",
    "\n",
    "if __name__ == \"__main__\":\n",
    "    student = StudentKit(input(\"Enter student name: \"))\n",
    "    student.attendance(int(input(\"Enter number of days present: \")))\n",
    "    student.certificate()"
   ]
  },
  {
   "cell_type": "markdown",
   "metadata": {},
   "source": [
    "### 09) Define Time class with hour and minute as data member. Also define addition method to add two time objects."
   ]
  },
  {
   "cell_type": "code",
   "execution_count": 2,
   "metadata": {},
   "outputs": [
    {
     "name": "stdout",
     "output_type": "stream",
     "text": [
      "Time: 4 hours 20 minutes\n"
     ]
    }
   ],
   "source": [
    "class Time:\n",
    "    def __init__(self, hour, minute):\n",
    "        self.hour = hour\n",
    "        self.minute = minute\n",
    "\n",
    "    def add_time(self, other):\n",
    "        total_minutes = self.minute + other.minute\n",
    "        total_hours = self.hour + other.hour + (total_minutes // 60)\n",
    "        return Time(total_hours, total_minutes % 60)\n",
    "\n",
    "    def display(self):\n",
    "        print(f\"Time: {self.hour} hours {self.minute} minutes\")\n",
    "\n",
    "if __name__ == \"__main__\":\n",
    "    t1 = Time(2, 50)\n",
    "    t2 = Time(1, 30)\n",
    "    t3 = t1.add_time(t2)\n",
    "    t3.display()\n"
   ]
  },
  {
   "cell_type": "code",
   "execution_count": null,
   "metadata": {},
   "outputs": [],
   "source": []
  }
 ],
 "metadata": {
  "kernelspec": {
   "display_name": "Python 3 (ipykernel)",
   "language": "python",
   "name": "python3"
  },
  "language_info": {
   "codemirror_mode": {
    "name": "ipython",
    "version": 3
   },
   "file_extension": ".py",
   "mimetype": "text/x-python",
   "name": "python",
   "nbconvert_exporter": "python",
   "pygments_lexer": "ipython3",
   "version": "3.13.1"
  }
 },
 "nbformat": 4,
 "nbformat_minor": 4
}
