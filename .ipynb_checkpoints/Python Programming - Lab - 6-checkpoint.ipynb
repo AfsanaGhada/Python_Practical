{
 "cells": [
  {
   "attachments": {},
   "cell_type": "markdown",
   "metadata": {},
   "source": [
    "<a href='https://www.darshan.ac.in/'> <img src='https://www.darshan.ac.in/Content/media/DU_Logo.svg' width=\"250\" height=\"300\"/></a>\n",
    "<pre>\n",
    "<center><b><h1>Python Programming - 2301CS404</b></center>\n",
    "<center><b><h1>Lab - 6</b></center>   \n",
    "<center><b><h1>Ghada Afsana Enroll No:24010101633 Date:2/1/2025</b></center>    \n",
    "\n",
    "<pre>"
   ]
  },
  {
   "cell_type": "markdown",
   "metadata": {},
   "source": [
    "# Tuple"
   ]
  },
  {
   "cell_type": "markdown",
   "metadata": {},
   "source": [
    "### 01) WAP to find sum of tuple elements."
   ]
  },
  {
   "cell_type": "code",
   "execution_count": 2,
   "metadata": {},
   "outputs": [
    {
     "name": "stdout",
     "output_type": "stream",
     "text": [
      "21\n",
      "<class 'tuple'>\n"
     ]
    }
   ],
   "source": [
    "t1=(1,2,3,4,5,6)\n",
    "print(sum(t1))\n",
    "print(type(t1))"
   ]
  },
  {
   "cell_type": "markdown",
   "metadata": {},
   "source": [
    "### 02) WAP to find Maximum and Minimum K elements in a given tuple."
   ]
  },
  {
   "cell_type": "code",
   "execution_count": 8,
   "metadata": {},
   "outputs": [
    {
     "name": "stdout",
     "output_type": "stream",
     "text": [
      "(1, 2, 3, 4, 5, 6, 7, 8)\n",
      "Maximum nuber is [7, 8]\n",
      "Minimum nuber is [1, 2]\n"
     ]
    }
   ],
   "source": [
    "t1=(1,2,3,4,5,6,7,8)\n",
    "k=2\n",
    "tuple=sorted(t1)\n",
    "print(t1)\n",
    "print(\"Maximum nuber is\",tuple[-k:])\n",
    "print(\"Minimum nuber is\",tuple[:k])"
   ]
  },
  {
   "cell_type": "markdown",
   "metadata": {},
   "source": [
    "### 03) WAP to find tuples which have all elements divisible by K from a list of tuples."
   ]
  },
  {
   "cell_type": "code",
   "execution_count": 9,
   "metadata": {},
   "outputs": [
    {
     "name": "stdout",
     "output_type": "stream",
     "text": [
      "[(10, 20, 30), (12, 18, 24)]\n"
     ]
    }
   ],
   "source": [
    "\n",
    "K = 2\n",
    "l1 = []\n",
    "\n",
    "for i in [(10, 20, 30), (15, 25, 35), (12, 18, 24), (5, 10, 20)]:\n",
    "     if all(e % K == 0 for e in i): \n",
    "        l1.append(i)\n",
    "print(l1)\n",
    "\n"
   ]
  },
  {
   "cell_type": "markdown",
   "metadata": {},
   "source": [
    "### 04) WAP to create a list of tuples from given list having number and its cube in each tuple."
   ]
  },
  {
   "cell_type": "code",
   "execution_count": 13,
   "metadata": {},
   "outputs": [
    {
     "name": "stdout",
     "output_type": "stream",
     "text": [
      "Tuple from Given List HAving Number [(1, 1), (2, 8), (3, 27), (4, 64), (5, 125), (6, 216), (7, 343)]\n"
     ]
    }
   ],
   "source": [
    "l1=[1,2,3,4,5,6,7]\n",
    "cube=[(i,i**3) for i in l1]\n",
    "print(\"Tuple from Given List HAving Number\",cube)"
   ]
  },
  {
   "cell_type": "markdown",
   "metadata": {},
   "source": [
    "### 05) WAP to find tuples with all positive elements from the given list of tuples."
   ]
  },
  {
   "cell_type": "code",
   "execution_count": 24,
   "metadata": {},
   "outputs": [
    {
     "name": "stdout",
     "output_type": "stream",
     "text": [
      "Tuple with Positive Elements From given List: [(23, 65, 74), (12, 123, 23)]\n"
     ]
    }
   ],
   "source": [
    "l1=[(10,20,-98),(23,65,74),(-44,1,87),(12,123,23)]\n",
    "l2=[]\n",
    "for i in l1:\n",
    "    if all(e > 0 for e in i):\n",
    "        l2.append(i)\n",
    "print(\"Tuple with Positive Elements From given List:\",l2)"
   ]
  },
  {
   "cell_type": "markdown",
   "metadata": {},
   "source": [
    "### 06) WAP to add tuple to list and vice – versa."
   ]
  },
  {
   "cell_type": "code",
   "execution_count": 34,
   "metadata": {},
   "outputs": [
    {
     "name": "stdout",
     "output_type": "stream",
     "text": [
      "List After Adding Tuple [1, 2, 3, 4, 5, (7, 8, 90, 66)]\n",
      "Tuple Afer Adding List (7, 8, 90, 66)\n"
     ]
    }
   ],
   "source": [
    "l=[1,2,3,4,5]\n",
    "t=(7,8,90,66)\n",
    "l.append(t)\n",
    "print(\"List After Adding Tuple\",l)\n",
    "lostoftuple=list(t)\n",
    "print(\"Tuple Afer Adding List\",t)"
   ]
  },
  {
   "cell_type": "markdown",
   "metadata": {},
   "source": [
    "### 07) WAP to remove tuples of length K."
   ]
  },
  {
   "cell_type": "code",
   "execution_count": 35,
   "metadata": {},
   "outputs": [
    {
     "name": "stdout",
     "output_type": "stream",
     "text": [
      "List after removing tuples of length K: [(3, 4, 5), (6, 7, 8, 9)]\n"
     ]
    }
   ],
   "source": [
    "t1=[(1, 2), (3, 4, 5), (6, 7, 8, 9), (10, 11)]\n",
    "k=2\n",
    "l1=[]\n",
    "\n",
    "for i in t1:\n",
    "    if len(i) != k:\n",
    "        l1.append(i)\n",
    "\n",
    "print(\"List after removing tuples of length K:\", l1)"
   ]
  },
  {
   "cell_type": "markdown",
   "metadata": {},
   "source": [
    "### 08) WAP to remove duplicates from tuple."
   ]
  },
  {
   "cell_type": "code",
   "execution_count": 36,
   "metadata": {},
   "outputs": [
    {
     "name": "stdout",
     "output_type": "stream",
     "text": [
      "tuple after removing duplicates: {0, 1, 2, 3, 4, 5, 6, 8, 9}\n"
     ]
    }
   ],
   "source": [
    "t1=(1,2,3,0,4,5,6,8,9,0,1,2,3,8,5)\n",
    "print(\"tuple after removing duplicates:\",set(t1))"
   ]
  },
  {
   "cell_type": "markdown",
   "metadata": {},
   "source": [
    "### 09) WAP to multiply adjacent elements of a tuple and print that resultant tuple."
   ]
  },
  {
   "cell_type": "code",
   "execution_count": 1,
   "metadata": {},
   "outputs": [
    {
     "name": "stdout",
     "output_type": "stream",
     "text": [
      "[2, 6, 12, 20]\n",
      "Resultant tuple after multiplying adjacent elements: (2, 6, 12, 20)\n"
     ]
    }
   ],
   "source": [
    "t1 = (1, 2, 3, 4, 5)\n",
    "l1 = []\n",
    "for i in range(len(t1)-1):\n",
    "    l1.append(t1[i] * t1[i+1])\n",
    "print(l1)\n",
    "t2 = tuple(l1)\n",
    "\n",
    "print(\"Resultant tuple after multiplying adjacent elements:\",t2)"
   ]
  },
  {
   "cell_type": "markdown",
   "metadata": {},
   "source": [
    "### 10) WAP to test if the given tuple is distinct or not."
   ]
  },
  {
   "cell_type": "code",
   "execution_count": 37,
   "metadata": {},
   "outputs": [
    {
     "name": "stdout",
     "output_type": "stream",
     "text": [
      "tuple distinct? True\n",
      "tuple distinct? True\n"
     ]
    }
   ],
   "source": [
    "t1 = (2,5,7,8,4,3,9)\n",
    "ans1 = len(t1) == len(set(t1))\n",
    "\n",
    "print(\"tuple distinct?\", ans1)\n",
    "t2= (1, 2, 3, 2, 4, 5)\n",
    "\n",
    "ans2 = len(t1) == len(set(t1))\n",
    "print(\"tuple distinct?\", ans2)\n",
    "\n"
   ]
  },
  {
   "cell_type": "code",
   "execution_count": null,
   "metadata": {},
   "outputs": [],
   "source": []
  }
 ],
 "metadata": {
  "kernelspec": {
   "display_name": "Python 3 (ipykernel)",
   "language": "python",
   "name": "python3"
  },
  "language_info": {
   "codemirror_mode": {
    "name": "ipython",
    "version": 3
   },
   "file_extension": ".py",
   "mimetype": "text/x-python",
   "name": "python",
   "nbconvert_exporter": "python",
   "pygments_lexer": "ipython3",
   "version": "3.13.0"
  }
 },
 "nbformat": 4,
 "nbformat_minor": 4
}
